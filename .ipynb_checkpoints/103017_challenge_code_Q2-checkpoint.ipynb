{
 "cells": [
  {
   "cell_type": "markdown",
   "metadata": {},
   "source": [
    "UK 2014 All STATS19 data (accident, casualties and vehicle tables) for 2005 to 2014.\" dataset investigation from [here](https://data.gov.uk/dataset/road-accidents-safety-data)."
   ]
  },
  {
   "cell_type": "markdown",
   "metadata": {},
   "source": [
    "## Load the library ##"
   ]
  },
  {
   "cell_type": "code",
   "execution_count": 1,
   "metadata": {
    "collapsed": true
   },
   "outputs": [],
   "source": [
    "## inspired by https://commercedataservice.github.io/tutorial_biz_dynamics/\n",
    "from IPython.display import display\n",
    "import io, requests, zipfile\n",
    "import pandas as pd\n",
    "from plotly.offline import download_plotlyjs, init_notebook_mode, iplot\n",
    "import plotly.graph_objs as go\n",
    "import plotly.plotly as py\n",
    "from sklearn import datasets, linear_model\n",
    "import matplotlib.pyplot as plt\n",
    "import numpy as np\n",
    "\n",
    "from plotly import __version__\n",
    "## print (__version__) ## requires version >= 1.9.0\n",
    "\n",
    "## Generating Offline Graphs within Jupyter Notebook\n",
    "## https://plot.ly/python/offline/\n",
    "## init_notebook_mode(connected=True)"
   ]
  },
  {
   "cell_type": "code",
   "execution_count": 2,
   "metadata": {
    "collapsed": true
   },
   "outputs": [],
   "source": [
    "## http://mcdc.missouri.edu/data/popests/CBSA-EST2014-alldata.csv\n",
    "## read in data with specified encoding\n",
    "path = './input/Stats19_Data_2005-2014/'"
   ]
  },
  {
   "cell_type": "markdown",
   "metadata": {},
   "source": [
    "## Parse time from csv file ##"
   ]
  },
  {
   "cell_type": "code",
   "execution_count": 3,
   "metadata": {},
   "outputs": [
    {
     "name": "stdout",
     "output_type": "stream",
     "text": [
      "<function <lambda> at 0x1116512f0>\n"
     ]
    },
    {
     "name": "stderr",
     "output_type": "stream",
     "text": [
      "/Users/udothemath1984/anaconda/lib/python3.6/site-packages/IPython/core/interactiveshell.py:2717: DtypeWarning:\n",
      "\n",
      "Columns (31) have mixed types. Specify dtype option on import or set low_memory=False.\n",
      "\n"
     ]
    }
   ],
   "source": [
    "## define the function in the desired date format\n",
    "dateparse = lambda dates: pd.datetime.strptime(dates, '%d/%m/%Y')\n",
    "print(dateparse)\n",
    "\n",
    "##acc = pd.read_csv(path + \"Accidents0514.csv\", encoding = \"ISO-8859-1\")\n",
    "\n",
    "acc = pd.read_csv(path + \"Accidents0514.csv\", parse_dates=['Date'], \\\n",
    "                  index_col=['Date'], date_parser=dateparse, encoding = \"ISO-8859-1\")"
   ]
  },
  {
   "cell_type": "code",
   "execution_count": 4,
   "metadata": {
    "collapsed": true
   },
   "outputs": [],
   "source": [
    "cau = pd.read_csv(path + \"Casualties0514.csv\", encoding = \"ISO-8859-1\")"
   ]
  },
  {
   "cell_type": "code",
   "execution_count": 5,
   "metadata": {
    "collapsed": true
   },
   "outputs": [],
   "source": [
    "veh = pd.read_csv(path + \"Vehicles0514.csv\", encoding = \"ISO-8859-1\")"
   ]
  },
  {
   "cell_type": "markdown",
   "metadata": {},
   "source": [
    "## All the np.nan data is replaced by -1 ##"
   ]
  },
  {
   "cell_type": "code",
   "execution_count": 6,
   "metadata": {},
   "outputs": [
    {
     "data": {
      "text/plain": [
       "Accident_Index                                      0\n",
       "Location_Easting_OSGR                             111\n",
       "Location_Northing_OSGR                            111\n",
       "Longitude                                         111\n",
       "Latitude                                          111\n",
       "Police_Force                                        0\n",
       "Accident_Severity                                   0\n",
       "Number_of_Vehicles                                  0\n",
       "Number_of_Casualties                                0\n",
       "Day_of_Week                                         0\n",
       "Time                                              133\n",
       "Local_Authority_(District)                          0\n",
       "Local_Authority_(Highway)                           0\n",
       "1st_Road_Class                                      0\n",
       "1st_Road_Number                                     0\n",
       "Road_Type                                           0\n",
       "Speed_limit                                         0\n",
       "Junction_Detail                                     0\n",
       "Junction_Control                                    0\n",
       "2nd_Road_Class                                      0\n",
       "2nd_Road_Number                                     0\n",
       "Pedestrian_Crossing-Human_Control                   0\n",
       "Pedestrian_Crossing-Physical_Facilities             0\n",
       "Light_Conditions                                    0\n",
       "Weather_Conditions                                  0\n",
       "Road_Surface_Conditions                             0\n",
       "Special_Conditions_at_Site                          0\n",
       "Carriageway_Hazards                                 0\n",
       "Urban_or_Rural_Area                                 0\n",
       "Did_Police_Officer_Attend_Scene_of_Accident         0\n",
       "LSOA_of_Accident_Location                      120574\n",
       "dtype: int64"
      ]
     },
     "execution_count": 6,
     "metadata": {},
     "output_type": "execute_result"
    }
   ],
   "source": [
    "acc.isnull().sum()"
   ]
  },
  {
   "cell_type": "code",
   "execution_count": 7,
   "metadata": {},
   "outputs": [],
   "source": [
    "acc = acc.fillna(-1)"
   ]
  },
  {
   "cell_type": "code",
   "execution_count": 8,
   "metadata": {},
   "outputs": [
    {
     "data": {
      "text/plain": [
       "Accident_Index                                 0\n",
       "Location_Easting_OSGR                          0\n",
       "Location_Northing_OSGR                         0\n",
       "Longitude                                      0\n",
       "Latitude                                       0\n",
       "Police_Force                                   0\n",
       "Accident_Severity                              0\n",
       "Number_of_Vehicles                             0\n",
       "Number_of_Casualties                           0\n",
       "Day_of_Week                                    0\n",
       "Time                                           0\n",
       "Local_Authority_(District)                     0\n",
       "Local_Authority_(Highway)                      0\n",
       "1st_Road_Class                                 0\n",
       "1st_Road_Number                                0\n",
       "Road_Type                                      0\n",
       "Speed_limit                                    0\n",
       "Junction_Detail                                0\n",
       "Junction_Control                               0\n",
       "2nd_Road_Class                                 0\n",
       "2nd_Road_Number                                0\n",
       "Pedestrian_Crossing-Human_Control              0\n",
       "Pedestrian_Crossing-Physical_Facilities        0\n",
       "Light_Conditions                               0\n",
       "Weather_Conditions                             0\n",
       "Road_Surface_Conditions                        0\n",
       "Special_Conditions_at_Site                     0\n",
       "Carriageway_Hazards                            0\n",
       "Urban_or_Rural_Area                            0\n",
       "Did_Police_Officer_Attend_Scene_of_Accident    0\n",
       "LSOA_of_Accident_Location                      0\n",
       "dtype: int64"
      ]
     },
     "execution_count": 8,
     "metadata": {},
     "output_type": "execute_result"
    }
   ],
   "source": [
    "acc.isnull().sum()"
   ]
  },
  {
   "cell_type": "markdown",
   "metadata": {},
   "source": [
    "## Set up display environment ##"
   ]
  },
  {
   "cell_type": "code",
   "execution_count": 9,
   "metadata": {
    "collapsed": true
   },
   "outputs": [],
   "source": [
    "#pd.set_option('display.max_colwidth', -1)\n",
    "#pd.options.display.max_rows = 4000\n",
    "pd.options.display.max_columns = 4000"
   ]
  },
  {
   "cell_type": "code",
   "execution_count": 10,
   "metadata": {},
   "outputs": [
    {
     "data": {
      "text/html": [
       "<div>\n",
       "<style>\n",
       "    .dataframe thead tr:only-child th {\n",
       "        text-align: right;\n",
       "    }\n",
       "\n",
       "    .dataframe thead th {\n",
       "        text-align: left;\n",
       "    }\n",
       "\n",
       "    .dataframe tbody tr th {\n",
       "        vertical-align: top;\n",
       "    }\n",
       "</style>\n",
       "<table border=\"1\" class=\"dataframe\">\n",
       "  <thead>\n",
       "    <tr style=\"text-align: right;\">\n",
       "      <th></th>\n",
       "      <th>Accident_Index</th>\n",
       "      <th>Location_Easting_OSGR</th>\n",
       "      <th>Location_Northing_OSGR</th>\n",
       "      <th>Longitude</th>\n",
       "      <th>Latitude</th>\n",
       "      <th>Police_Force</th>\n",
       "      <th>Accident_Severity</th>\n",
       "      <th>Number_of_Vehicles</th>\n",
       "      <th>Number_of_Casualties</th>\n",
       "      <th>Day_of_Week</th>\n",
       "      <th>Time</th>\n",
       "      <th>Local_Authority_(District)</th>\n",
       "      <th>Local_Authority_(Highway)</th>\n",
       "      <th>1st_Road_Class</th>\n",
       "      <th>1st_Road_Number</th>\n",
       "      <th>Road_Type</th>\n",
       "      <th>Speed_limit</th>\n",
       "      <th>Junction_Detail</th>\n",
       "      <th>Junction_Control</th>\n",
       "      <th>2nd_Road_Class</th>\n",
       "      <th>2nd_Road_Number</th>\n",
       "      <th>Pedestrian_Crossing-Human_Control</th>\n",
       "      <th>Pedestrian_Crossing-Physical_Facilities</th>\n",
       "      <th>Light_Conditions</th>\n",
       "      <th>Weather_Conditions</th>\n",
       "      <th>Road_Surface_Conditions</th>\n",
       "      <th>Special_Conditions_at_Site</th>\n",
       "      <th>Carriageway_Hazards</th>\n",
       "      <th>Urban_or_Rural_Area</th>\n",
       "      <th>Did_Police_Officer_Attend_Scene_of_Accident</th>\n",
       "      <th>LSOA_of_Accident_Location</th>\n",
       "    </tr>\n",
       "    <tr>\n",
       "      <th>Date</th>\n",
       "      <th></th>\n",
       "      <th></th>\n",
       "      <th></th>\n",
       "      <th></th>\n",
       "      <th></th>\n",
       "      <th></th>\n",
       "      <th></th>\n",
       "      <th></th>\n",
       "      <th></th>\n",
       "      <th></th>\n",
       "      <th></th>\n",
       "      <th></th>\n",
       "      <th></th>\n",
       "      <th></th>\n",
       "      <th></th>\n",
       "      <th></th>\n",
       "      <th></th>\n",
       "      <th></th>\n",
       "      <th></th>\n",
       "      <th></th>\n",
       "      <th></th>\n",
       "      <th></th>\n",
       "      <th></th>\n",
       "      <th></th>\n",
       "      <th></th>\n",
       "      <th></th>\n",
       "      <th></th>\n",
       "      <th></th>\n",
       "      <th></th>\n",
       "      <th></th>\n",
       "      <th></th>\n",
       "    </tr>\n",
       "  </thead>\n",
       "  <tbody>\n",
       "    <tr>\n",
       "      <th>2005-01-04</th>\n",
       "      <td>200501BS00001</td>\n",
       "      <td>525680.0</td>\n",
       "      <td>178240.0</td>\n",
       "      <td>-0.191170</td>\n",
       "      <td>51.489096</td>\n",
       "      <td>1</td>\n",
       "      <td>2</td>\n",
       "      <td>1</td>\n",
       "      <td>1</td>\n",
       "      <td>3</td>\n",
       "      <td>17:42</td>\n",
       "      <td>12</td>\n",
       "      <td>E09000020</td>\n",
       "      <td>3</td>\n",
       "      <td>3218</td>\n",
       "      <td>6</td>\n",
       "      <td>30</td>\n",
       "      <td>0</td>\n",
       "      <td>-1</td>\n",
       "      <td>-1</td>\n",
       "      <td>0</td>\n",
       "      <td>0</td>\n",
       "      <td>1</td>\n",
       "      <td>1</td>\n",
       "      <td>2</td>\n",
       "      <td>2</td>\n",
       "      <td>0</td>\n",
       "      <td>0</td>\n",
       "      <td>1</td>\n",
       "      <td>1</td>\n",
       "      <td>E01002849</td>\n",
       "    </tr>\n",
       "    <tr>\n",
       "      <th>2005-01-05</th>\n",
       "      <td>200501BS00002</td>\n",
       "      <td>524170.0</td>\n",
       "      <td>181650.0</td>\n",
       "      <td>-0.211708</td>\n",
       "      <td>51.520075</td>\n",
       "      <td>1</td>\n",
       "      <td>3</td>\n",
       "      <td>1</td>\n",
       "      <td>1</td>\n",
       "      <td>4</td>\n",
       "      <td>17:36</td>\n",
       "      <td>12</td>\n",
       "      <td>E09000020</td>\n",
       "      <td>4</td>\n",
       "      <td>450</td>\n",
       "      <td>3</td>\n",
       "      <td>30</td>\n",
       "      <td>6</td>\n",
       "      <td>2</td>\n",
       "      <td>5</td>\n",
       "      <td>0</td>\n",
       "      <td>0</td>\n",
       "      <td>5</td>\n",
       "      <td>4</td>\n",
       "      <td>1</td>\n",
       "      <td>1</td>\n",
       "      <td>0</td>\n",
       "      <td>0</td>\n",
       "      <td>1</td>\n",
       "      <td>1</td>\n",
       "      <td>E01002909</td>\n",
       "    </tr>\n",
       "    <tr>\n",
       "      <th>2005-01-06</th>\n",
       "      <td>200501BS00003</td>\n",
       "      <td>524520.0</td>\n",
       "      <td>182240.0</td>\n",
       "      <td>-0.206458</td>\n",
       "      <td>51.525301</td>\n",
       "      <td>1</td>\n",
       "      <td>3</td>\n",
       "      <td>2</td>\n",
       "      <td>1</td>\n",
       "      <td>5</td>\n",
       "      <td>00:15</td>\n",
       "      <td>12</td>\n",
       "      <td>E09000020</td>\n",
       "      <td>5</td>\n",
       "      <td>0</td>\n",
       "      <td>6</td>\n",
       "      <td>30</td>\n",
       "      <td>0</td>\n",
       "      <td>-1</td>\n",
       "      <td>-1</td>\n",
       "      <td>0</td>\n",
       "      <td>0</td>\n",
       "      <td>0</td>\n",
       "      <td>4</td>\n",
       "      <td>1</td>\n",
       "      <td>1</td>\n",
       "      <td>0</td>\n",
       "      <td>0</td>\n",
       "      <td>1</td>\n",
       "      <td>1</td>\n",
       "      <td>E01002857</td>\n",
       "    </tr>\n",
       "  </tbody>\n",
       "</table>\n",
       "</div>"
      ],
      "text/plain": [
       "           Accident_Index  Location_Easting_OSGR  Location_Northing_OSGR  \\\n",
       "Date                                                                       \n",
       "2005-01-04  200501BS00001               525680.0                178240.0   \n",
       "2005-01-05  200501BS00002               524170.0                181650.0   \n",
       "2005-01-06  200501BS00003               524520.0                182240.0   \n",
       "\n",
       "            Longitude   Latitude  Police_Force  Accident_Severity  \\\n",
       "Date                                                                \n",
       "2005-01-04  -0.191170  51.489096             1                  2   \n",
       "2005-01-05  -0.211708  51.520075             1                  3   \n",
       "2005-01-06  -0.206458  51.525301             1                  3   \n",
       "\n",
       "            Number_of_Vehicles  Number_of_Casualties  Day_of_Week   Time  \\\n",
       "Date                                                                       \n",
       "2005-01-04                   1                     1            3  17:42   \n",
       "2005-01-05                   1                     1            4  17:36   \n",
       "2005-01-06                   2                     1            5  00:15   \n",
       "\n",
       "            Local_Authority_(District) Local_Authority_(Highway)  \\\n",
       "Date                                                               \n",
       "2005-01-04                          12                 E09000020   \n",
       "2005-01-05                          12                 E09000020   \n",
       "2005-01-06                          12                 E09000020   \n",
       "\n",
       "            1st_Road_Class  1st_Road_Number  Road_Type  Speed_limit  \\\n",
       "Date                                                                  \n",
       "2005-01-04               3             3218          6           30   \n",
       "2005-01-05               4              450          3           30   \n",
       "2005-01-06               5                0          6           30   \n",
       "\n",
       "            Junction_Detail  Junction_Control  2nd_Road_Class  \\\n",
       "Date                                                            \n",
       "2005-01-04                0                -1              -1   \n",
       "2005-01-05                6                 2               5   \n",
       "2005-01-06                0                -1              -1   \n",
       "\n",
       "            2nd_Road_Number  Pedestrian_Crossing-Human_Control  \\\n",
       "Date                                                             \n",
       "2005-01-04                0                                  0   \n",
       "2005-01-05                0                                  0   \n",
       "2005-01-06                0                                  0   \n",
       "\n",
       "            Pedestrian_Crossing-Physical_Facilities  Light_Conditions  \\\n",
       "Date                                                                    \n",
       "2005-01-04                                        1                 1   \n",
       "2005-01-05                                        5                 4   \n",
       "2005-01-06                                        0                 4   \n",
       "\n",
       "            Weather_Conditions  Road_Surface_Conditions  \\\n",
       "Date                                                      \n",
       "2005-01-04                   2                        2   \n",
       "2005-01-05                   1                        1   \n",
       "2005-01-06                   1                        1   \n",
       "\n",
       "            Special_Conditions_at_Site  Carriageway_Hazards  \\\n",
       "Date                                                          \n",
       "2005-01-04                           0                    0   \n",
       "2005-01-05                           0                    0   \n",
       "2005-01-06                           0                    0   \n",
       "\n",
       "            Urban_or_Rural_Area  Did_Police_Officer_Attend_Scene_of_Accident  \\\n",
       "Date                                                                           \n",
       "2005-01-04                    1                                            1   \n",
       "2005-01-05                    1                                            1   \n",
       "2005-01-06                    1                                            1   \n",
       "\n",
       "           LSOA_of_Accident_Location  \n",
       "Date                                  \n",
       "2005-01-04                 E01002849  \n",
       "2005-01-05                 E01002909  \n",
       "2005-01-06                 E01002857  "
      ]
     },
     "metadata": {},
     "output_type": "display_data"
    }
   ],
   "source": [
    "display(acc.head(3))"
   ]
  },
  {
   "cell_type": "code",
   "execution_count": 11,
   "metadata": {},
   "outputs": [
    {
     "data": {
      "text/html": [
       "<div>\n",
       "<style>\n",
       "    .dataframe thead tr:only-child th {\n",
       "        text-align: right;\n",
       "    }\n",
       "\n",
       "    .dataframe thead th {\n",
       "        text-align: left;\n",
       "    }\n",
       "\n",
       "    .dataframe tbody tr th {\n",
       "        vertical-align: top;\n",
       "    }\n",
       "</style>\n",
       "<table border=\"1\" class=\"dataframe\">\n",
       "  <thead>\n",
       "    <tr style=\"text-align: right;\">\n",
       "      <th></th>\n",
       "      <th>Accident_Index</th>\n",
       "      <th>Vehicle_Reference</th>\n",
       "      <th>Casualty_Reference</th>\n",
       "      <th>Casualty_Class</th>\n",
       "      <th>Sex_of_Casualty</th>\n",
       "      <th>Age_of_Casualty</th>\n",
       "      <th>Age_Band_of_Casualty</th>\n",
       "      <th>Casualty_Severity</th>\n",
       "      <th>Pedestrian_Location</th>\n",
       "      <th>Pedestrian_Movement</th>\n",
       "      <th>Car_Passenger</th>\n",
       "      <th>Bus_or_Coach_Passenger</th>\n",
       "      <th>Pedestrian_Road_Maintenance_Worker</th>\n",
       "      <th>Casualty_Type</th>\n",
       "      <th>Casualty_Home_Area_Type</th>\n",
       "    </tr>\n",
       "  </thead>\n",
       "  <tbody>\n",
       "    <tr>\n",
       "      <th>0</th>\n",
       "      <td>200501BS00001</td>\n",
       "      <td>1</td>\n",
       "      <td>1</td>\n",
       "      <td>3</td>\n",
       "      <td>1</td>\n",
       "      <td>37</td>\n",
       "      <td>7</td>\n",
       "      <td>2</td>\n",
       "      <td>1</td>\n",
       "      <td>1</td>\n",
       "      <td>0</td>\n",
       "      <td>0</td>\n",
       "      <td>-1</td>\n",
       "      <td>0</td>\n",
       "      <td>1</td>\n",
       "    </tr>\n",
       "    <tr>\n",
       "      <th>1</th>\n",
       "      <td>200501BS00002</td>\n",
       "      <td>1</td>\n",
       "      <td>1</td>\n",
       "      <td>2</td>\n",
       "      <td>1</td>\n",
       "      <td>37</td>\n",
       "      <td>7</td>\n",
       "      <td>3</td>\n",
       "      <td>0</td>\n",
       "      <td>0</td>\n",
       "      <td>0</td>\n",
       "      <td>4</td>\n",
       "      <td>-1</td>\n",
       "      <td>11</td>\n",
       "      <td>1</td>\n",
       "    </tr>\n",
       "    <tr>\n",
       "      <th>2</th>\n",
       "      <td>200501BS00003</td>\n",
       "      <td>2</td>\n",
       "      <td>1</td>\n",
       "      <td>1</td>\n",
       "      <td>1</td>\n",
       "      <td>62</td>\n",
       "      <td>9</td>\n",
       "      <td>3</td>\n",
       "      <td>0</td>\n",
       "      <td>0</td>\n",
       "      <td>0</td>\n",
       "      <td>0</td>\n",
       "      <td>-1</td>\n",
       "      <td>9</td>\n",
       "      <td>1</td>\n",
       "    </tr>\n",
       "  </tbody>\n",
       "</table>\n",
       "</div>"
      ],
      "text/plain": [
       "  Accident_Index  Vehicle_Reference  Casualty_Reference  Casualty_Class  \\\n",
       "0  200501BS00001                  1                   1               3   \n",
       "1  200501BS00002                  1                   1               2   \n",
       "2  200501BS00003                  2                   1               1   \n",
       "\n",
       "   Sex_of_Casualty  Age_of_Casualty  Age_Band_of_Casualty  Casualty_Severity  \\\n",
       "0                1               37                     7                  2   \n",
       "1                1               37                     7                  3   \n",
       "2                1               62                     9                  3   \n",
       "\n",
       "   Pedestrian_Location  Pedestrian_Movement  Car_Passenger  \\\n",
       "0                    1                    1              0   \n",
       "1                    0                    0              0   \n",
       "2                    0                    0              0   \n",
       "\n",
       "   Bus_or_Coach_Passenger  Pedestrian_Road_Maintenance_Worker  Casualty_Type  \\\n",
       "0                       0                                  -1              0   \n",
       "1                       4                                  -1             11   \n",
       "2                       0                                  -1              9   \n",
       "\n",
       "   Casualty_Home_Area_Type  \n",
       "0                        1  \n",
       "1                        1  \n",
       "2                        1  "
      ]
     },
     "metadata": {},
     "output_type": "display_data"
    }
   ],
   "source": [
    "display(cau.head(3))"
   ]
  },
  {
   "cell_type": "code",
   "execution_count": 12,
   "metadata": {},
   "outputs": [
    {
     "data": {
      "text/html": [
       "<div>\n",
       "<style>\n",
       "    .dataframe thead tr:only-child th {\n",
       "        text-align: right;\n",
       "    }\n",
       "\n",
       "    .dataframe thead th {\n",
       "        text-align: left;\n",
       "    }\n",
       "\n",
       "    .dataframe tbody tr th {\n",
       "        vertical-align: top;\n",
       "    }\n",
       "</style>\n",
       "<table border=\"1\" class=\"dataframe\">\n",
       "  <thead>\n",
       "    <tr style=\"text-align: right;\">\n",
       "      <th></th>\n",
       "      <th>Accident_Index</th>\n",
       "      <th>Vehicle_Reference</th>\n",
       "      <th>Vehicle_Type</th>\n",
       "      <th>Towing_and_Articulation</th>\n",
       "      <th>Vehicle_Manoeuvre</th>\n",
       "      <th>Vehicle_Location-Restricted_Lane</th>\n",
       "      <th>Junction_Location</th>\n",
       "      <th>Skidding_and_Overturning</th>\n",
       "      <th>Hit_Object_in_Carriageway</th>\n",
       "      <th>Vehicle_Leaving_Carriageway</th>\n",
       "      <th>Hit_Object_off_Carriageway</th>\n",
       "      <th>1st_Point_of_Impact</th>\n",
       "      <th>Was_Vehicle_Left_Hand_Drive?</th>\n",
       "      <th>Journey_Purpose_of_Driver</th>\n",
       "      <th>Sex_of_Driver</th>\n",
       "      <th>Age_of_Driver</th>\n",
       "      <th>Age_Band_of_Driver</th>\n",
       "      <th>Engine_Capacity_(CC)</th>\n",
       "      <th>Propulsion_Code</th>\n",
       "      <th>Age_of_Vehicle</th>\n",
       "      <th>Driver_IMD_Decile</th>\n",
       "      <th>Driver_Home_Area_Type</th>\n",
       "    </tr>\n",
       "  </thead>\n",
       "  <tbody>\n",
       "    <tr>\n",
       "      <th>0</th>\n",
       "      <td>200501BS00001</td>\n",
       "      <td>1</td>\n",
       "      <td>9</td>\n",
       "      <td>0</td>\n",
       "      <td>18</td>\n",
       "      <td>0</td>\n",
       "      <td>0</td>\n",
       "      <td>0</td>\n",
       "      <td>0</td>\n",
       "      <td>0</td>\n",
       "      <td>0</td>\n",
       "      <td>1</td>\n",
       "      <td>1</td>\n",
       "      <td>15</td>\n",
       "      <td>2</td>\n",
       "      <td>74</td>\n",
       "      <td>10</td>\n",
       "      <td>-1</td>\n",
       "      <td>-1</td>\n",
       "      <td>-1</td>\n",
       "      <td>7</td>\n",
       "      <td>1</td>\n",
       "    </tr>\n",
       "    <tr>\n",
       "      <th>1</th>\n",
       "      <td>200501BS00002</td>\n",
       "      <td>1</td>\n",
       "      <td>11</td>\n",
       "      <td>0</td>\n",
       "      <td>4</td>\n",
       "      <td>0</td>\n",
       "      <td>3</td>\n",
       "      <td>0</td>\n",
       "      <td>0</td>\n",
       "      <td>0</td>\n",
       "      <td>0</td>\n",
       "      <td>4</td>\n",
       "      <td>1</td>\n",
       "      <td>1</td>\n",
       "      <td>1</td>\n",
       "      <td>42</td>\n",
       "      <td>7</td>\n",
       "      <td>8268</td>\n",
       "      <td>2</td>\n",
       "      <td>3</td>\n",
       "      <td>-1</td>\n",
       "      <td>-1</td>\n",
       "    </tr>\n",
       "    <tr>\n",
       "      <th>2</th>\n",
       "      <td>200501BS00003</td>\n",
       "      <td>1</td>\n",
       "      <td>11</td>\n",
       "      <td>0</td>\n",
       "      <td>17</td>\n",
       "      <td>0</td>\n",
       "      <td>0</td>\n",
       "      <td>0</td>\n",
       "      <td>4</td>\n",
       "      <td>0</td>\n",
       "      <td>0</td>\n",
       "      <td>4</td>\n",
       "      <td>1</td>\n",
       "      <td>1</td>\n",
       "      <td>1</td>\n",
       "      <td>35</td>\n",
       "      <td>6</td>\n",
       "      <td>8300</td>\n",
       "      <td>2</td>\n",
       "      <td>5</td>\n",
       "      <td>2</td>\n",
       "      <td>1</td>\n",
       "    </tr>\n",
       "  </tbody>\n",
       "</table>\n",
       "</div>"
      ],
      "text/plain": [
       "  Accident_Index  Vehicle_Reference  Vehicle_Type  Towing_and_Articulation  \\\n",
       "0  200501BS00001                  1             9                        0   \n",
       "1  200501BS00002                  1            11                        0   \n",
       "2  200501BS00003                  1            11                        0   \n",
       "\n",
       "   Vehicle_Manoeuvre  Vehicle_Location-Restricted_Lane  Junction_Location  \\\n",
       "0                 18                                 0                  0   \n",
       "1                  4                                 0                  3   \n",
       "2                 17                                 0                  0   \n",
       "\n",
       "   Skidding_and_Overturning  Hit_Object_in_Carriageway  \\\n",
       "0                         0                          0   \n",
       "1                         0                          0   \n",
       "2                         0                          4   \n",
       "\n",
       "   Vehicle_Leaving_Carriageway  Hit_Object_off_Carriageway  \\\n",
       "0                            0                           0   \n",
       "1                            0                           0   \n",
       "2                            0                           0   \n",
       "\n",
       "   1st_Point_of_Impact  Was_Vehicle_Left_Hand_Drive?  \\\n",
       "0                    1                             1   \n",
       "1                    4                             1   \n",
       "2                    4                             1   \n",
       "\n",
       "   Journey_Purpose_of_Driver  Sex_of_Driver  Age_of_Driver  \\\n",
       "0                         15              2             74   \n",
       "1                          1              1             42   \n",
       "2                          1              1             35   \n",
       "\n",
       "   Age_Band_of_Driver  Engine_Capacity_(CC)  Propulsion_Code  Age_of_Vehicle  \\\n",
       "0                  10                    -1               -1              -1   \n",
       "1                   7                  8268                2               3   \n",
       "2                   6                  8300                2               5   \n",
       "\n",
       "   Driver_IMD_Decile  Driver_Home_Area_Type  \n",
       "0                  7                      1  \n",
       "1                 -1                     -1  \n",
       "2                  2                      1  "
      ]
     },
     "metadata": {},
     "output_type": "display_data"
    }
   ],
   "source": [
    "display(veh.head(3))"
   ]
  },
  {
   "cell_type": "code",
   "execution_count": 13,
   "metadata": {},
   "outputs": [
    {
     "name": "stdout",
     "output_type": "stream",
     "text": [
      "(1640597, 31)\n",
      "(2216720, 15)\n",
      "(3004425, 22)\n"
     ]
    }
   ],
   "source": [
    "print(acc.shape)\n",
    "print(cau.shape)\n",
    "print(veh.shape)"
   ]
  },
  {
   "cell_type": "markdown",
   "metadata": {},
   "source": [
    "## Find urban accident occurrence ##"
   ]
  },
  {
   "cell_type": "code",
   "execution_count": 14,
   "metadata": {},
   "outputs": [
    {
     "name": "stdout",
     "output_type": "stream",
     "text": [
      "1    1054341\n",
      "2     586113\n",
      "3        143\n",
      "Name: Urban_or_Rural_Area, dtype: int64\n",
      "1640597\n"
     ]
    }
   ],
   "source": [
    "## https://data.gov.uk/dataset/road-accidents-safety-data\n",
    "print(acc['Urban_or_Rural_Area'].value_counts())\n",
    "print(len(acc))\n",
    "\n",
    "# 1 = Urban area\n",
    "# 2 = Small town\n",
    "# 3 = Rural\n",
    "\n",
    "# -1 = Data missing or out of range"
   ]
  },
  {
   "cell_type": "markdown",
   "metadata": {},
   "source": [
    "**Q:** What fraction of accidents occur in urban areas? Report the answer in decimal form."
   ]
  },
  {
   "cell_type": "code",
   "execution_count": 15,
   "metadata": {},
   "outputs": [
    {
     "name": "stdout",
     "output_type": "stream",
     "text": [
      "0.6426569109\n"
     ]
    }
   ],
   "source": [
    "acc_tot = len(acc)\n",
    "acc_urban = acc['Urban_or_Rural_Area'].value_counts()[1]\n",
    "print(round(acc_urban/acc_tot, 10))"
   ]
  },
  {
   "cell_type": "markdown",
   "metadata": {},
   "source": [
    "## Check data type ##  \n",
    "**Work on missing data: ** https://pandas.pydata.org/pandas-docs/stable/missing_data.html"
   ]
  },
  {
   "cell_type": "code",
   "execution_count": 16,
   "metadata": {},
   "outputs": [
    {
     "name": "stdout",
     "output_type": "stream",
     "text": [
      "<class 'pandas.core.series.Series'>\n",
      "E01002849\n",
      "<class 'str'>\n"
     ]
    }
   ],
   "source": [
    "print(type(acc['LSOA_of_Accident_Location']))\n",
    "print(acc['LSOA_of_Accident_Location'].iloc[0])\n",
    "print(type(acc['LSOA_of_Accident_Location'].iloc[0]))\n",
    "\n",
    "#display(acc.iloc[:, 28:33].head(3))"
   ]
  },
  {
   "cell_type": "code",
   "execution_count": 17,
   "metadata": {},
   "outputs": [
    {
     "data": {
      "text/plain": [
       "Date\n",
       "2005    198735\n",
       "2006    189161\n",
       "2007    182115\n",
       "2008    170591\n",
       "2009    163554\n",
       "2010    154414\n",
       "2011    151474\n",
       "2012    145571\n",
       "2013    138660\n",
       "2014    146322\n",
       "Name: Urban_or_Rural_Area, dtype: int64"
      ]
     },
     "execution_count": 17,
     "metadata": {},
     "output_type": "execute_result"
    }
   ],
   "source": [
    "##acc.loc['2005']\n",
    "##acc_year = acc.groupby(acc.index.year)['Urban_or_Rural_Area'].value_counts()\n",
    "acc_year = acc.groupby(acc.index.year)['Urban_or_Rural_Area'].count()\n",
    "acc_year"
   ]
  },
  {
   "cell_type": "markdown",
   "metadata": {},
   "source": [
    "**Q:** There appears to be a linear trend in the number of accidents that occur each year. What is that trend? Return the slope in units of increased number of accidents per year."
   ]
  },
  {
   "cell_type": "code",
   "execution_count": 18,
   "metadata": {
    "collapsed": true
   },
   "outputs": [],
   "source": [
    "##print(type(acc_year))\n",
    "y = acc_year.values\n",
    "##print(y)\n",
    "x = acc_year.index.values.reshape(-1, 1)\n",
    "##print(x)\n",
    "##print(type(x))"
   ]
  },
  {
   "cell_type": "code",
   "execution_count": 19,
   "metadata": {},
   "outputs": [
    {
     "name": "stdout",
     "output_type": "stream",
     "text": [
      "[-6511.7272727273]\n",
      "13249375.6545\n"
     ]
    }
   ],
   "source": [
    "# from sklearn import datasets, linear_model\n",
    "# import matplotlib.pyplot as plt\n",
    "\n",
    "np.set_printoptions(precision=10)\n",
    "\n",
    "regr = linear_model.LinearRegression()\n",
    "regr.fit(x, y)\n",
    "print(regr.coef_)\n",
    "print(regr.intercept_)"
   ]
  },
  {
   "cell_type": "code",
   "execution_count": 20,
   "metadata": {},
   "outputs": [
    {
     "data": {
      "image/png": "[encoded data removed]",
      "text/plain": [
       "<matplotlib.figure.Figure at 0x17a067be0>"
      ]
     },
     "metadata": {},
     "output_type": "display_data"
    }
   ],
   "source": [
    "# Plot outputs\n",
    "plt.scatter(x, y,  color='black')\n",
    "#plt.xticks(())\n",
    "#plt.yticks(())\n",
    "plt.show()"
   ]
  },
  {
   "cell_type": "markdown",
   "metadata": {},
   "source": [
    "**Q: ** How many times more likely are you to be in an accident where you skid, jackknife, or overturn (as opposed to an accident where you don't) when it's raining or snowing compared to nice weather with no high winds? Ignore accidents where the weather is unknown or missing."
   ]
  },
  {
   "cell_type": "markdown",
   "metadata": {},
   "source": [
    "<center> **Skidding_and_Overturning** </center>  \n",
    "\n",
    "|code|label|\n",
    "|:--:|--:|\n",
    "|0|None|\n",
    "|1|Skidded|\n",
    "|2|Skidded and overturned|\n",
    "|3|Jackknifed|\n",
    "|4|Jackknifed and overturned|\n",
    "|5|Overturned|\n",
    "|-1|Data missing or out of range|  \n",
    " \n",
    "  \n",
    "<center> **Weather_Conditions** </center>  \n",
    "\n",
    "|code|label|\n",
    "|:--:|:--:|\n",
    "|1|Fine no high winds|\n",
    "|2|Raining no high winds|\n",
    "|3|Snowing no high winds|\n",
    "|4|Fine + high winds|\n",
    "|5|Raining + high winds|\n",
    "|6|Snowing + high winds|\n",
    "|7|Fog or mist|\n",
    "|8|Other|\n",
    "|9|Unknown|\n",
    "|-1|Data missing or out of range|\n",
    "\n"
   ]
  },
  {
   "cell_type": "code",
   "execution_count": 21,
   "metadata": {},
   "outputs": [
    {
     "data": {
      "text/html": [
       "<div>\n",
       "<style>\n",
       "    .dataframe thead tr:only-child th {\n",
       "        text-align: right;\n",
       "    }\n",
       "\n",
       "    .dataframe thead th {\n",
       "        text-align: left;\n",
       "    }\n",
       "\n",
       "    .dataframe tbody tr th {\n",
       "        vertical-align: top;\n",
       "    }\n",
       "</style>\n",
       "<table border=\"1\" class=\"dataframe\">\n",
       "  <thead>\n",
       "    <tr style=\"text-align: right;\">\n",
       "      <th></th>\n",
       "      <th>Accident_Index</th>\n",
       "      <th>Location_Easting_OSGR</th>\n",
       "      <th>Location_Northing_OSGR</th>\n",
       "      <th>Longitude</th>\n",
       "      <th>Latitude</th>\n",
       "      <th>Police_Force</th>\n",
       "      <th>Accident_Severity</th>\n",
       "      <th>Number_of_Vehicles</th>\n",
       "      <th>Number_of_Casualties</th>\n",
       "      <th>Day_of_Week</th>\n",
       "      <th>Time</th>\n",
       "      <th>Local_Authority_(District)</th>\n",
       "      <th>Local_Authority_(Highway)</th>\n",
       "      <th>1st_Road_Class</th>\n",
       "      <th>1st_Road_Number</th>\n",
       "      <th>Road_Type</th>\n",
       "      <th>Speed_limit</th>\n",
       "      <th>Junction_Detail</th>\n",
       "      <th>Junction_Control</th>\n",
       "      <th>2nd_Road_Class</th>\n",
       "      <th>2nd_Road_Number</th>\n",
       "      <th>Pedestrian_Crossing-Human_Control</th>\n",
       "      <th>Pedestrian_Crossing-Physical_Facilities</th>\n",
       "      <th>Light_Conditions</th>\n",
       "      <th>Weather_Conditions</th>\n",
       "      <th>Road_Surface_Conditions</th>\n",
       "      <th>Special_Conditions_at_Site</th>\n",
       "      <th>Carriageway_Hazards</th>\n",
       "      <th>Urban_or_Rural_Area</th>\n",
       "      <th>Did_Police_Officer_Attend_Scene_of_Accident</th>\n",
       "      <th>LSOA_of_Accident_Location</th>\n",
       "    </tr>\n",
       "    <tr>\n",
       "      <th>Date</th>\n",
       "      <th></th>\n",
       "      <th></th>\n",
       "      <th></th>\n",
       "      <th></th>\n",
       "      <th></th>\n",
       "      <th></th>\n",
       "      <th></th>\n",
       "      <th></th>\n",
       "      <th></th>\n",
       "      <th></th>\n",
       "      <th></th>\n",
       "      <th></th>\n",
       "      <th></th>\n",
       "      <th></th>\n",
       "      <th></th>\n",
       "      <th></th>\n",
       "      <th></th>\n",
       "      <th></th>\n",
       "      <th></th>\n",
       "      <th></th>\n",
       "      <th></th>\n",
       "      <th></th>\n",
       "      <th></th>\n",
       "      <th></th>\n",
       "      <th></th>\n",
       "      <th></th>\n",
       "      <th></th>\n",
       "      <th></th>\n",
       "      <th></th>\n",
       "      <th></th>\n",
       "      <th></th>\n",
       "    </tr>\n",
       "  </thead>\n",
       "  <tbody>\n",
       "    <tr>\n",
       "      <th>2005-01-04</th>\n",
       "      <td>200501BS00001</td>\n",
       "      <td>525680.0</td>\n",
       "      <td>178240.0</td>\n",
       "      <td>-0.191170</td>\n",
       "      <td>51.489096</td>\n",
       "      <td>1</td>\n",
       "      <td>2</td>\n",
       "      <td>1</td>\n",
       "      <td>1</td>\n",
       "      <td>3</td>\n",
       "      <td>17:42</td>\n",
       "      <td>12</td>\n",
       "      <td>E09000020</td>\n",
       "      <td>3</td>\n",
       "      <td>3218</td>\n",
       "      <td>6</td>\n",
       "      <td>30</td>\n",
       "      <td>0</td>\n",
       "      <td>-1</td>\n",
       "      <td>-1</td>\n",
       "      <td>0</td>\n",
       "      <td>0</td>\n",
       "      <td>1</td>\n",
       "      <td>1</td>\n",
       "      <td>2</td>\n",
       "      <td>2</td>\n",
       "      <td>0</td>\n",
       "      <td>0</td>\n",
       "      <td>1</td>\n",
       "      <td>1</td>\n",
       "      <td>E01002849</td>\n",
       "    </tr>\n",
       "    <tr>\n",
       "      <th>2005-01-05</th>\n",
       "      <td>200501BS00002</td>\n",
       "      <td>524170.0</td>\n",
       "      <td>181650.0</td>\n",
       "      <td>-0.211708</td>\n",
       "      <td>51.520075</td>\n",
       "      <td>1</td>\n",
       "      <td>3</td>\n",
       "      <td>1</td>\n",
       "      <td>1</td>\n",
       "      <td>4</td>\n",
       "      <td>17:36</td>\n",
       "      <td>12</td>\n",
       "      <td>E09000020</td>\n",
       "      <td>4</td>\n",
       "      <td>450</td>\n",
       "      <td>3</td>\n",
       "      <td>30</td>\n",
       "      <td>6</td>\n",
       "      <td>2</td>\n",
       "      <td>5</td>\n",
       "      <td>0</td>\n",
       "      <td>0</td>\n",
       "      <td>5</td>\n",
       "      <td>4</td>\n",
       "      <td>1</td>\n",
       "      <td>1</td>\n",
       "      <td>0</td>\n",
       "      <td>0</td>\n",
       "      <td>1</td>\n",
       "      <td>1</td>\n",
       "      <td>E01002909</td>\n",
       "    </tr>\n",
       "    <tr>\n",
       "      <th>2005-01-06</th>\n",
       "      <td>200501BS00003</td>\n",
       "      <td>524520.0</td>\n",
       "      <td>182240.0</td>\n",
       "      <td>-0.206458</td>\n",
       "      <td>51.525301</td>\n",
       "      <td>1</td>\n",
       "      <td>3</td>\n",
       "      <td>2</td>\n",
       "      <td>1</td>\n",
       "      <td>5</td>\n",
       "      <td>00:15</td>\n",
       "      <td>12</td>\n",
       "      <td>E09000020</td>\n",
       "      <td>5</td>\n",
       "      <td>0</td>\n",
       "      <td>6</td>\n",
       "      <td>30</td>\n",
       "      <td>0</td>\n",
       "      <td>-1</td>\n",
       "      <td>-1</td>\n",
       "      <td>0</td>\n",
       "      <td>0</td>\n",
       "      <td>0</td>\n",
       "      <td>4</td>\n",
       "      <td>1</td>\n",
       "      <td>1</td>\n",
       "      <td>0</td>\n",
       "      <td>0</td>\n",
       "      <td>1</td>\n",
       "      <td>1</td>\n",
       "      <td>E01002857</td>\n",
       "    </tr>\n",
       "  </tbody>\n",
       "</table>\n",
       "</div>"
      ],
      "text/plain": [
       "           Accident_Index  Location_Easting_OSGR  Location_Northing_OSGR  \\\n",
       "Date                                                                       \n",
       "2005-01-04  200501BS00001               525680.0                178240.0   \n",
       "2005-01-05  200501BS00002               524170.0                181650.0   \n",
       "2005-01-06  200501BS00003               524520.0                182240.0   \n",
       "\n",
       "            Longitude   Latitude  Police_Force  Accident_Severity  \\\n",
       "Date                                                                \n",
       "2005-01-04  -0.191170  51.489096             1                  2   \n",
       "2005-01-05  -0.211708  51.520075             1                  3   \n",
       "2005-01-06  -0.206458  51.525301             1                  3   \n",
       "\n",
       "            Number_of_Vehicles  Number_of_Casualties  Day_of_Week   Time  \\\n",
       "Date                                                                       \n",
       "2005-01-04                   1                     1            3  17:42   \n",
       "2005-01-05                   1                     1            4  17:36   \n",
       "2005-01-06                   2                     1            5  00:15   \n",
       "\n",
       "            Local_Authority_(District) Local_Authority_(Highway)  \\\n",
       "Date                                                               \n",
       "2005-01-04                          12                 E09000020   \n",
       "2005-01-05                          12                 E09000020   \n",
       "2005-01-06                          12                 E09000020   \n",
       "\n",
       "            1st_Road_Class  1st_Road_Number  Road_Type  Speed_limit  \\\n",
       "Date                                                                  \n",
       "2005-01-04               3             3218          6           30   \n",
       "2005-01-05               4              450          3           30   \n",
       "2005-01-06               5                0          6           30   \n",
       "\n",
       "            Junction_Detail  Junction_Control  2nd_Road_Class  \\\n",
       "Date                                                            \n",
       "2005-01-04                0                -1              -1   \n",
       "2005-01-05                6                 2               5   \n",
       "2005-01-06                0                -1              -1   \n",
       "\n",
       "            2nd_Road_Number  Pedestrian_Crossing-Human_Control  \\\n",
       "Date                                                             \n",
       "2005-01-04                0                                  0   \n",
       "2005-01-05                0                                  0   \n",
       "2005-01-06                0                                  0   \n",
       "\n",
       "            Pedestrian_Crossing-Physical_Facilities  Light_Conditions  \\\n",
       "Date                                                                    \n",
       "2005-01-04                                        1                 1   \n",
       "2005-01-05                                        5                 4   \n",
       "2005-01-06                                        0                 4   \n",
       "\n",
       "            Weather_Conditions  Road_Surface_Conditions  \\\n",
       "Date                                                      \n",
       "2005-01-04                   2                        2   \n",
       "2005-01-05                   1                        1   \n",
       "2005-01-06                   1                        1   \n",
       "\n",
       "            Special_Conditions_at_Site  Carriageway_Hazards  \\\n",
       "Date                                                          \n",
       "2005-01-04                           0                    0   \n",
       "2005-01-05                           0                    0   \n",
       "2005-01-06                           0                    0   \n",
       "\n",
       "            Urban_or_Rural_Area  Did_Police_Officer_Attend_Scene_of_Accident  \\\n",
       "Date                                                                           \n",
       "2005-01-04                    1                                            1   \n",
       "2005-01-05                    1                                            1   \n",
       "2005-01-06                    1                                            1   \n",
       "\n",
       "           LSOA_of_Accident_Location  \n",
       "Date                                  \n",
       "2005-01-04                 E01002849  \n",
       "2005-01-05                 E01002909  \n",
       "2005-01-06                 E01002857  "
      ]
     },
     "metadata": {},
     "output_type": "display_data"
    }
   ],
   "source": [
    "display(acc.head(3))"
   ]
  },
  {
   "cell_type": "code",
   "execution_count": 22,
   "metadata": {},
   "outputs": [],
   "source": [
    "#print(acc['Weather_Conditions'].value_counts())\n",
    "#print(veh['Skidding_and_Overturning'].value_counts())"
   ]
  },
  {
   "cell_type": "markdown",
   "metadata": {},
   "source": [
    "## Count occurrence ##  \n",
    "Note: There might be more than one car involved in the same accident, so that the size of vehicle record is larger than accident."
   ]
  },
  {
   "cell_type": "code",
   "execution_count": 23,
   "metadata": {},
   "outputs": [
    {
     "name": "stdout",
     "output_type": "stream",
     "text": [
      "(1640597, 31)\n",
      "(3004425, 22)\n"
     ]
    }
   ],
   "source": [
    "print(acc.shape)\n",
    "print(veh.shape)"
   ]
  },
  {
   "cell_type": "code",
   "execution_count": 24,
   "metadata": {},
   "outputs": [
    {
     "name": "stdout",
     "output_type": "stream",
     "text": [
      "1640597\n"
     ]
    }
   ],
   "source": [
    "print(len(set(veh['Accident_Index'])))"
   ]
  },
  {
   "cell_type": "markdown",
   "metadata": {},
   "source": [
    "## Merge the dataset ##  \n",
    "Here merge style has no effect. Accident_Index is unique in accident dataframe. For vehicle dataframe, the Accident_Index could be the same."
   ]
  },
  {
   "cell_type": "code",
   "execution_count": 25,
   "metadata": {},
   "outputs": [],
   "source": [
    "mix_acc_veh = pd.merge(acc[['Accident_Index', 'Weather_Conditions']], \n",
    "                            veh[['Accident_Index', 'Skidding_and_Overturning']],\n",
    "                            how='inner',\n",
    "                            on='Accident_Index')"
   ]
  },
  {
   "cell_type": "code",
   "execution_count": 26,
   "metadata": {},
   "outputs": [
    {
     "name": "stdout",
     "output_type": "stream",
     "text": [
      "  Accident_Index  Weather_Conditions  Skidding_and_Overturning\n",
      "0  200501BS00001                   2                         0\n",
      "1  200501BS00002                   1                         0\n",
      "2  200501BS00003                   1                         0\n",
      "(3004425, 3)\n"
     ]
    }
   ],
   "source": [
    "print(mix_acc_veh.head(3))\n",
    "print(mix_acc_veh.shape)"
   ]
  },
  {
   "cell_type": "markdown",
   "metadata": {},
   "source": [
    "## Condition ##  \n",
    "- Skidding_and_Overturning = 1, 2, 3, 4, 5 bad action, 0 none  \n",
    "- Weather_Conditions = 2, 3, 5, 6 bad weather condition, 1 good weather condition  "
   ]
  },
  {
   "cell_type": "code",
   "execution_count": 27,
   "metadata": {},
   "outputs": [
    {
     "name": "stdout",
     "output_type": "stream",
     "text": [
      "281800\n",
      "2124043\n",
      "0.11713150026830513\n",
      "87912\n",
      "333521\n",
      "0.2086025536680801\n"
     ]
    }
   ],
   "source": [
    "acc_veh_good_weather = mix_acc_veh[mix_acc_veh['Weather_Conditions'] == 1]\n",
    "acc_veh_bad_weather = mix_acc_veh[mix_acc_veh['Weather_Conditions'].isin([2,3,5,6])]\n",
    "\n",
    "bad_action_list = [1,2,3,4,5]\n",
    "\n",
    "## good weather\n",
    "acc_veh_good_weather_bad_action = len(acc_veh_good_weather[\n",
    "          acc_veh_good_weather['Skidding_and_Overturning'].isin(bad_action_list)])\n",
    "\n",
    "acc_veh_good_weather_good_action = len(acc_veh_good_weather[\n",
    "          acc_veh_good_weather['Skidding_and_Overturning']== 0])\n",
    "\n",
    "# print(acc_veh_good_weather_bad_action)\n",
    "# print(acc_veh_good_weather_good_action)\n",
    "\n",
    "# print(acc_veh_good_weather_bad_action/(acc_veh_good_weather_bad_action+acc_veh_good_weather_good_action))\n",
    "\n",
    "## bad weather\n",
    "acc_veh_bad_weather_bad_action = len(acc_veh_bad_weather[\n",
    "    acc_veh_bad_weather['Skidding_and_Overturning'].isin(bad_action_list)])\n",
    "\n",
    "acc_veh_bad_weather_good_action = len(acc_veh_bad_weather[\n",
    "    acc_veh_bad_weather['Skidding_and_Overturning']==0])\n",
    "\n",
    "# print(acc_veh_bad_weather_bad_action)\n",
    "# print(acc_veh_bad_weather_good_action)\n",
    "# print(acc_veh_bad_weather_bad_action/(acc_veh_bad_weather_bad_action+acc_veh_bad_weather_good_action))\n",
    "\n"
   ]
  },
  {
   "cell_type": "code",
   "execution_count": 28,
   "metadata": {},
   "outputs": [
    {
     "name": "stdout",
     "output_type": "stream",
     "text": [
      "Accident ratio when you made bad decision at good weather: \n",
      "0.11713150026830513\n",
      "Accident ratio when you made bad decision at bad weather: \n",
      "0.2086025536680801\n",
      "The accident is 1.7809261658 times more likely to happen when weather is bad comparing to good weather.\n"
     ]
    }
   ],
   "source": [
    "ratio_bad_decision_in_good = acc_veh_good_weather_bad_action/(acc_veh_good_weather_bad_action+acc_veh_good_weather_good_action)\n",
    "ratio_bad_decision_in_bad = acc_veh_bad_weather_bad_action/(acc_veh_bad_weather_bad_action+acc_veh_bad_weather_good_action)\n",
    "\n",
    "print(\"Accident ratio when you made bad decision at good weather: \")\n",
    "print(ratio_bad_decision_in_good)\n",
    "print(\"Accident ratio when you made bad decision at bad weather: \")\n",
    "print(ratio_bad_decision_in_bad)\n",
    "\n",
    "print(\"The accident is {:.10f} times more likely to happen when weather is bad comparing to good weather.\"\n",
    "     .format(ratio_bad_decision_in_bad/ratio_bad_decision_in_good))\n"
   ]
  },
  {
   "cell_type": "markdown",
   "metadata": {},
   "source": [
    "**Q: ** We can use the accident locations to estimate the areas of the police districts. Represent each as an ellipse with semi-axes given by a single standard deviation of the longitude and latitude. What is the area, in square kilometers, of the largest district measured in this manner?"
   ]
  },
  {
   "cell_type": "markdown",
   "metadata": {},
   "source": [
    "**Q: ** When is the most dangerous time to drive? Find the hour of the day that has the highest occurance of fatal accidents, normalized by the total number of accidents that occured in that hour. For your answer, submit the corresponding frequency of fatal accidents to all accidents in that hour. Note: round accident times down. For example, if an accident occured at 23:55 it occured in hour 23."
   ]
  },
  {
   "cell_type": "markdown",
   "metadata": {},
   "source": [
    "| code | label\n",
    "| :--: | :--\n",
    "|1|Fatal\n",
    "|2|Serious\n",
    "|3|Slight"
   ]
  },
  {
   "cell_type": "code",
   "execution_count": 29,
   "metadata": {},
   "outputs": [],
   "source": [
    "##display(acc.head(3))"
   ]
  },
  {
   "cell_type": "code",
   "execution_count": 30,
   "metadata": {},
   "outputs": [
    {
     "data": {
      "text/html": [
       "<div>\n",
       "<style>\n",
       "    .dataframe thead tr:only-child th {\n",
       "        text-align: right;\n",
       "    }\n",
       "\n",
       "    .dataframe thead th {\n",
       "        text-align: left;\n",
       "    }\n",
       "\n",
       "    .dataframe tbody tr th {\n",
       "        vertical-align: top;\n",
       "    }\n",
       "</style>\n",
       "<table border=\"1\" class=\"dataframe\">\n",
       "  <thead>\n",
       "    <tr style=\"text-align: right;\">\n",
       "      <th></th>\n",
       "      <th>Accident_Severity</th>\n",
       "      <th>Time</th>\n",
       "    </tr>\n",
       "    <tr>\n",
       "      <th>Date</th>\n",
       "      <th></th>\n",
       "      <th></th>\n",
       "    </tr>\n",
       "  </thead>\n",
       "  <tbody>\n",
       "    <tr>\n",
       "      <th>2005-01-04</th>\n",
       "      <td>2</td>\n",
       "      <td>17:42</td>\n",
       "    </tr>\n",
       "    <tr>\n",
       "      <th>2005-01-05</th>\n",
       "      <td>3</td>\n",
       "      <td>17:36</td>\n",
       "    </tr>\n",
       "    <tr>\n",
       "      <th>2005-01-06</th>\n",
       "      <td>3</td>\n",
       "      <td>00:15</td>\n",
       "    </tr>\n",
       "  </tbody>\n",
       "</table>\n",
       "</div>"
      ],
      "text/plain": [
       "            Accident_Severity   Time\n",
       "Date                                \n",
       "2005-01-04                  2  17:42\n",
       "2005-01-05                  3  17:36\n",
       "2005-01-06                  3  00:15"
      ]
     },
     "metadata": {},
     "output_type": "display_data"
    }
   ],
   "source": [
    "acc_severity_time = acc[['Accident_Severity', 'Time' ]]\n",
    "display(acc_severity_time.head(3))\n",
    "acc_severity_time_subset = acc_severity_time\n",
    "##display(acc_severity_time_subset)"
   ]
  },
  {
   "cell_type": "markdown",
   "metadata": {},
   "source": [
    "## Check missing data ##  \n",
    "All the missing data is indicated by -1."
   ]
  },
  {
   "cell_type": "code",
   "execution_count": 31,
   "metadata": {},
   "outputs": [
    {
     "name": "stdout",
     "output_type": "stream",
     "text": [
      "Before removing, there are 1640597 data entries.\n",
      "After removing, there are 1640464 data entries.\n"
     ]
    }
   ],
   "source": [
    "##acc = acc.fillna(-1)\n",
    "##print(len(acc_severity_time[acc_severity_time['Time'].isnull()]))\n",
    "print(\"Before removing, there are {} data entries.\".format(len(acc_severity_time)))\n",
    "acc_severity_time = acc_severity_time[acc_severity_time.Time != -1]\n",
    "print(\"After removing, there are {} data entries.\".format(len(acc_severity_time)))\n"
   ]
  },
  {
   "cell_type": "code",
   "execution_count": 32,
   "metadata": {},
   "outputs": [
    {
     "data": {
      "text/plain": [
       "Accident_Severity    0\n",
       "Time                 0\n",
       "dtype: int64"
      ]
     },
     "execution_count": 32,
     "metadata": {},
     "output_type": "execute_result"
    }
   ],
   "source": [
    "acc_severity_time.isnull().sum()"
   ]
  },
  {
   "cell_type": "markdown",
   "metadata": {},
   "source": [
    "## Parse time ##"
   ]
  },
  {
   "cell_type": "code",
   "execution_count": 33,
   "metadata": {},
   "outputs": [
    {
     "name": "stdout",
     "output_type": "stream",
     "text": [
      "<function <lambda> at 0x1116516a8>\n"
     ]
    }
   ],
   "source": [
    "## define the function in the desired date format\n",
    "## time format reference\n",
    "## http://strftime.org/\n",
    "## get only time\n",
    "## https://stackoverflow.com/questions/18039680/django-get-only-date-from-datetime-strptime\n",
    "dateparse_hour_minutes = lambda dates: pd.datetime.strptime(dates, '%H:%M')\n",
    "print(dateparse_hour_minutes)"
   ]
  },
  {
   "cell_type": "code",
   "execution_count": 34,
   "metadata": {},
   "outputs": [
    {
     "name": "stderr",
     "output_type": "stream",
     "text": [
      "/Users/udothemath1984/anaconda/lib/python3.6/site-packages/pandas/core/indexing.py:517: SettingWithCopyWarning:\n",
      "\n",
      "\n",
      "A value is trying to be set on a copy of a slice from a DataFrame.\n",
      "Try using .loc[row_indexer,col_indexer] = value instead\n",
      "\n",
      "See the caveats in the documentation: http://pandas.pydata.org/pandas-docs/stable/indexing.html#indexing-view-versus-copy\n",
      "\n"
     ]
    }
   ],
   "source": [
    "acc_severity_time.loc[:,'Time']=acc_severity_time.loc[:,'Time'].copy()\\\n",
    "                                                          .apply(dateparse_hour_minutes)\\\n",
    "                                                          .dt.strftime('%H')"
   ]
  },
  {
   "cell_type": "markdown",
   "metadata": {},
   "source": [
    "## Pivot table ##"
   ]
  },
  {
   "cell_type": "code",
   "execution_count": 35,
   "metadata": {},
   "outputs": [
    {
     "data": {
      "text/html": [
       "<div>\n",
       "<style>\n",
       "    .dataframe thead tr:only-child th {\n",
       "        text-align: right;\n",
       "    }\n",
       "\n",
       "    .dataframe thead th {\n",
       "        text-align: left;\n",
       "    }\n",
       "\n",
       "    .dataframe tbody tr th {\n",
       "        vertical-align: top;\n",
       "    }\n",
       "</style>\n",
       "<table border=\"1\" class=\"dataframe\">\n",
       "  <thead>\n",
       "    <tr style=\"text-align: right;\">\n",
       "      <th>Accident_Severity</th>\n",
       "      <th>1</th>\n",
       "      <th>2</th>\n",
       "      <th>3</th>\n",
       "    </tr>\n",
       "    <tr>\n",
       "      <th>Time</th>\n",
       "      <th></th>\n",
       "      <th></th>\n",
       "      <th></th>\n",
       "    </tr>\n",
       "  </thead>\n",
       "  <tbody>\n",
       "    <tr>\n",
       "      <th>00</th>\n",
       "      <td>769</td>\n",
       "      <td>4755</td>\n",
       "      <td>19707</td>\n",
       "    </tr>\n",
       "    <tr>\n",
       "      <th>01</th>\n",
       "      <td>613</td>\n",
       "      <td>3600</td>\n",
       "      <td>14295</td>\n",
       "    </tr>\n",
       "    <tr>\n",
       "      <th>02</th>\n",
       "      <td>527</td>\n",
       "      <td>3035</td>\n",
       "      <td>11345</td>\n",
       "    </tr>\n",
       "    <tr>\n",
       "      <th>03</th>\n",
       "      <td>450</td>\n",
       "      <td>2371</td>\n",
       "      <td>9089</td>\n",
       "    </tr>\n",
       "    <tr>\n",
       "      <th>04</th>\n",
       "      <td>360</td>\n",
       "      <td>1794</td>\n",
       "      <td>6963</td>\n",
       "    </tr>\n",
       "  </tbody>\n",
       "</table>\n",
       "</div>"
      ],
      "text/plain": [
       "Accident_Severity    1     2      3\n",
       "Time                               \n",
       "00                 769  4755  19707\n",
       "01                 613  3600  14295\n",
       "02                 527  3035  11345\n",
       "03                 450  2371   9089\n",
       "04                 360  1794   6963"
      ]
     },
     "metadata": {},
     "output_type": "display_data"
    }
   ],
   "source": [
    "acc_pivot = acc_severity_time.pivot_table(index=['Time'], columns='Accident_Severity', \n",
    "                                          aggfunc='size', fill_value=0)\n",
    "\n",
    "display(acc_pivot.head(5))\n",
    "\n",
    "## another approach\n",
    "## acc_severity_time_groupby = acc_severity_time.groupby(['Time'])['Accident_Severity'].value_counts()\n",
    "## display(acc_severity_time_groupby)"
   ]
  },
  {
   "cell_type": "code",
   "execution_count": 36,
   "metadata": {},
   "outputs": [
    {
     "data": {
      "text/html": [
       "<div>\n",
       "<style>\n",
       "    .dataframe thead tr:only-child th {\n",
       "        text-align: right;\n",
       "    }\n",
       "\n",
       "    .dataframe thead th {\n",
       "        text-align: left;\n",
       "    }\n",
       "\n",
       "    .dataframe tbody tr th {\n",
       "        vertical-align: top;\n",
       "    }\n",
       "</style>\n",
       "<table border=\"1\" class=\"dataframe\">\n",
       "  <thead>\n",
       "    <tr style=\"text-align: right;\">\n",
       "      <th>Accident_Severity</th>\n",
       "      <th>fatal</th>\n",
       "      <th>Serious</th>\n",
       "      <th>Slight</th>\n",
       "    </tr>\n",
       "    <tr>\n",
       "      <th>Time</th>\n",
       "      <th></th>\n",
       "      <th></th>\n",
       "      <th></th>\n",
       "    </tr>\n",
       "  </thead>\n",
       "  <tbody>\n",
       "    <tr>\n",
       "      <th>00</th>\n",
       "      <td>769</td>\n",
       "      <td>4755</td>\n",
       "      <td>19707</td>\n",
       "    </tr>\n",
       "    <tr>\n",
       "      <th>01</th>\n",
       "      <td>613</td>\n",
       "      <td>3600</td>\n",
       "      <td>14295</td>\n",
       "    </tr>\n",
       "    <tr>\n",
       "      <th>02</th>\n",
       "      <td>527</td>\n",
       "      <td>3035</td>\n",
       "      <td>11345</td>\n",
       "    </tr>\n",
       "    <tr>\n",
       "      <th>03</th>\n",
       "      <td>450</td>\n",
       "      <td>2371</td>\n",
       "      <td>9089</td>\n",
       "    </tr>\n",
       "    <tr>\n",
       "      <th>04</th>\n",
       "      <td>360</td>\n",
       "      <td>1794</td>\n",
       "      <td>6963</td>\n",
       "    </tr>\n",
       "  </tbody>\n",
       "</table>\n",
       "</div>"
      ],
      "text/plain": [
       "Accident_Severity  fatal  Serious  Slight\n",
       "Time                                     \n",
       "00                   769     4755   19707\n",
       "01                   613     3600   14295\n",
       "02                   527     3035   11345\n",
       "03                   450     2371    9089\n",
       "04                   360     1794    6963"
      ]
     },
     "metadata": {},
     "output_type": "display_data"
    }
   ],
   "source": [
    "acc_pivot=acc_pivot.rename(columns = {1:'fatal', 2:'Serious', 3:'Slight' })\n",
    "display(acc_pivot.head(5))\n"
   ]
  },
  {
   "cell_type": "code",
   "execution_count": 37,
   "metadata": {},
   "outputs": [
    {
     "name": "stdout",
     "output_type": "stream",
     "text": [
      "<class 'pandas.core.frame.DataFrame'>\n",
      "Index(['00', '01', '02', '03', '04', '05', '06', '07', '08', '09', '10', '11',\n",
      "       '12', '13', '14', '15', '16', '17', '18', '19', '20', '21', '22', '23'],\n",
      "      dtype='object', name='Time')\n",
      "Time\n",
      "Index(['fatal', 'Serious', 'Slight'], dtype='object', name='Accident_Severity')\n",
      "['fatal' 'Serious' 'Slight']\n"
     ]
    }
   ],
   "source": [
    "print(type(acc_pivot))\n",
    "print(acc_pivot.index)\n",
    "print(acc_pivot.index.name)\n",
    "print(acc_pivot.columns)\n",
    "print(acc_pivot.columns.values)"
   ]
  },
  {
   "cell_type": "code",
   "execution_count": 38,
   "metadata": {},
   "outputs": [
    {
     "data": {
      "text/html": [
       "<div>\n",
       "<style>\n",
       "    .dataframe thead tr:only-child th {\n",
       "        text-align: right;\n",
       "    }\n",
       "\n",
       "    .dataframe thead th {\n",
       "        text-align: left;\n",
       "    }\n",
       "\n",
       "    .dataframe tbody tr th {\n",
       "        vertical-align: top;\n",
       "    }\n",
       "</style>\n",
       "<table border=\"1\" class=\"dataframe\">\n",
       "  <thead>\n",
       "    <tr style=\"text-align: right;\">\n",
       "      <th>Accident_Severity</th>\n",
       "      <th>fatal</th>\n",
       "      <th>Serious</th>\n",
       "      <th>Slight</th>\n",
       "      <th>total_count</th>\n",
       "      <th>fatal_ratio</th>\n",
       "    </tr>\n",
       "    <tr>\n",
       "      <th>Time</th>\n",
       "      <th></th>\n",
       "      <th></th>\n",
       "      <th></th>\n",
       "      <th></th>\n",
       "      <th></th>\n",
       "    </tr>\n",
       "  </thead>\n",
       "  <tbody>\n",
       "    <tr>\n",
       "      <th>00</th>\n",
       "      <td>769</td>\n",
       "      <td>4755</td>\n",
       "      <td>19707</td>\n",
       "      <td>25231</td>\n",
       "      <td>3.047838</td>\n",
       "    </tr>\n",
       "    <tr>\n",
       "      <th>01</th>\n",
       "      <td>613</td>\n",
       "      <td>3600</td>\n",
       "      <td>14295</td>\n",
       "      <td>18508</td>\n",
       "      <td>3.312081</td>\n",
       "    </tr>\n",
       "    <tr>\n",
       "      <th>02</th>\n",
       "      <td>527</td>\n",
       "      <td>3035</td>\n",
       "      <td>11345</td>\n",
       "      <td>14907</td>\n",
       "      <td>3.535252</td>\n",
       "    </tr>\n",
       "  </tbody>\n",
       "</table>\n",
       "</div>"
      ],
      "text/plain": [
       "Accident_Severity  fatal  Serious  Slight  total_count  fatal_ratio\n",
       "Time                                                               \n",
       "00                   769     4755   19707        25231     3.047838\n",
       "01                   613     3600   14295        18508     3.312081\n",
       "02                   527     3035   11345        14907     3.535252"
      ]
     },
     "metadata": {},
     "output_type": "display_data"
    }
   ],
   "source": [
    "acc_pivot['total_count'] = acc_pivot['fatal']+acc_pivot['Serious']+acc_pivot['Slight']\n",
    "acc_pivot['fatal_ratio'] = acc_pivot['fatal']/acc_pivot['total_count']*100\n",
    "display(acc_pivot.head(3))"
   ]
  },
  {
   "cell_type": "code",
   "execution_count": 39,
   "metadata": {},
   "outputs": [],
   "source": [
    "import plotly.plotly as py\n",
    "import plotly.graph_objs as go\n",
    "import numpy as np\n",
    "import cufflinks as cf"
   ]
  },
  {
   "cell_type": "code",
   "execution_count": 40,
   "metadata": {},
   "outputs": [
    {
     "name": "stdout",
     "output_type": "stream",
     "text": [
      "[769, 613, 527, 450, 360, 425, 582, 819, 788, 769, 954, 960, 983, 1084, 1107, 1243, 1400, 1457, 1215, 1187, 948, 918, 960, 863]\n",
      "['00', '01', '02', '03', '04', '05', '06', '07', '08', '09', '10', '11', '12', '13', '14', '15', '16', '17', '18', '19', '20', '21', '22', '23']\n"
     ]
    }
   ],
   "source": [
    "print(list(acc_pivot['fatal']))\n",
    "print(list(acc_pivot.index.values))"
   ]
  },
  {
   "cell_type": "code",
   "execution_count": 49,
   "metadata": {},
   "outputs": [
    {
     "data": {
      "text/html": [
       "<iframe id=\"igraph\" scrolling=\"no\" style=\"border:none;\" seamless=\"seamless\" src=\"https://plot.ly/~anappleaday1984/134.embed\" height=\"525px\" width=\"100%\"></iframe>"
      ],
      "text/plain": [
       "<plotly.tools.PlotlyDisplay object>"
      ]
     },
     "execution_count": 49,
     "metadata": {},
     "output_type": "execute_result"
    }
   ],
   "source": [
    "## Multiple-axes\n",
    "## https://plot.ly/python/multiple-axes/\n",
    "\n",
    "trace0 = go.Bar(x = acc_pivot.index,\n",
    "                y = acc_pivot['fatal'],\n",
    "                yaxis = 'y',\n",
    "                name = 'Fatal',\n",
    "                marker = dict(\n",
    "#                     size = 10,\n",
    "                     color = 'red',\n",
    "#                 line = dict(\n",
    "#                     width = 2,\n",
    "#                     color = 'rgb(0, 0, 0)'\n",
    "                 )\n",
    "            )\n",
    "\n",
    "trace1 = go.Bar(x = acc_pivot.index,\n",
    "                y = acc_pivot['Serious'],\n",
    "                yaxis = 'y',\n",
    "                name = 'Serious'\n",
    "            )\n",
    "\n",
    "trace2 = go.Bar(x = acc_pivot.index,\n",
    "                y = acc_pivot['Slight'],\n",
    "                yaxis = 'y',                \n",
    "                name = 'Slight'\n",
    "            )\n",
    "\n",
    "trace4 = go.Scatter(x = acc_pivot.index,\n",
    "                    y = [\"{:.2f}\".format(i) for i in acc_pivot['fatal_ratio'] ],\n",
    "                    yaxis = 'y2',\n",
    "                    mode='markers+lines+text',\n",
    "                    text = [\"{:.2f}\".format(i) for i in acc_pivot['fatal_ratio'] ] ,\n",
    "                    textposition = 'top',\n",
    "                    name = 'Fatal Ratio',\n",
    "                    line = dict(\n",
    "                        color = ('rgb(205, 12, 24)'),\n",
    "                        width = 1),\n",
    "                    textfont=dict(\n",
    "                        family='sans serif',\n",
    "                        size=18,\n",
    "                        color='green'\n",
    "                    )\n",
    "            )\n",
    "\n",
    "data = [trace2,trace1,trace0, trace4]\n",
    "\n",
    "layout = go.Layout(\n",
    "    barmode='stack',\n",
    "    yaxis=dict(\n",
    "        title='Accident count',\n",
    "        showgrid=False\n",
    "    ),\n",
    "    yaxis2=dict(\n",
    "        title='Fatal ratio',\n",
    "        anchor='x',\n",
    "        overlaying='y',\n",
    "        side='right'\n",
    "    ),\n",
    ")\n",
    "\n",
    "fig = go.Figure(data=data,layout=layout)\n",
    "py.iplot(fig, filename='basic histogram')\n"
   ]
  },
  {
   "cell_type": "markdown",
   "metadata": {},
   "source": [
    "The figures shows the total number of accidents at the hour of a day. The color in histogram represents the level of severity. Blue means slight, orange means serious, and red means fatal. It also shows that the fatal accidents always happen at night, from 12pm to 5pm. At 4 pm of a day, the accident is most likely to be fatal (3.95%). "
   ]
  },
  {
   "cell_type": "markdown",
   "metadata": {},
   "source": [
    "**Q: ** Do accidents in high-speed-limit areas have more casualties? Compute the Pearson correlation coefficient between the speed limit and the ratio of the number of casualties to accidents for each speed limit. Bin the data by speed limit."
   ]
  },
  {
   "cell_type": "code",
   "execution_count": 82,
   "metadata": {},
   "outputs": [
    {
     "name": "stdout",
     "output_type": "stream",
     "text": [
      "30    0.641219\n",
      "60    0.160479\n",
      "40    0.081975\n",
      "70    0.073269\n",
      "50    0.032232\n",
      "20    0.010805\n",
      "10    0.000010\n",
      "15    0.000010\n",
      "Name: Speed_limit, dtype: float64\n"
     ]
    }
   ],
   "source": [
    "#print(acc['Speed_limit'][:3])\n",
    "print(acc['Speed_limit'].value_counts(123))"
   ]
  },
  {
   "cell_type": "code",
   "execution_count": 76,
   "metadata": {},
   "outputs": [
    {
     "name": "stdout",
     "output_type": "stream",
     "text": [
      "<class 'pandas.core.frame.DataFrame'>\n",
      "   speed_limit     count\n",
      "6           10  0.000010\n",
      "7           15  0.000010\n",
      "5           20  0.010805\n",
      "0           30  0.641219\n",
      "2           40  0.081975\n",
      "4           50  0.032232\n",
      "1           60  0.160479\n",
      "3           70  0.073269\n"
     ]
    },
    {
     "data": {
      "text/html": [
       "<div>\n",
       "<style>\n",
       "    .dataframe thead tr:only-child th {\n",
       "        text-align: right;\n",
       "    }\n",
       "\n",
       "    .dataframe thead th {\n",
       "        text-align: left;\n",
       "    }\n",
       "\n",
       "    .dataframe tbody tr th {\n",
       "        vertical-align: top;\n",
       "    }\n",
       "</style>\n",
       "<table border=\"1\" class=\"dataframe\">\n",
       "  <thead>\n",
       "    <tr style=\"text-align: right;\">\n",
       "      <th></th>\n",
       "      <th>speed_limit</th>\n",
       "      <th>count</th>\n",
       "    </tr>\n",
       "  </thead>\n",
       "  <tbody>\n",
       "    <tr>\n",
       "      <th>speed_limit</th>\n",
       "      <td>1.000000</td>\n",
       "      <td>0.067481</td>\n",
       "    </tr>\n",
       "    <tr>\n",
       "      <th>count</th>\n",
       "      <td>0.067481</td>\n",
       "      <td>1.000000</td>\n",
       "    </tr>\n",
       "  </tbody>\n",
       "</table>\n",
       "</div>"
      ],
      "text/plain": [
       "             speed_limit     count\n",
       "speed_limit     1.000000  0.067481\n",
       "count           0.067481  1.000000"
      ]
     },
     "execution_count": 76,
     "metadata": {},
     "output_type": "execute_result"
    }
   ],
   "source": [
    "df_acc_asc = acc['Speed_limit'].value_counts(123)\\\n",
    "                               .reset_index()\\\n",
    "                               .sort_values(by='index', ascending=True)\\\n",
    "                               .rename(columns = {'index':'speed_limit', 'Speed_limit':'count'})\n",
    "print(type(df_acc_asc))\n",
    "print(df_acc_asc)\n",
    "df_acc_asc.corr()\n",
    "# .rename({'$a':'a', '$b':'b', '$c':'c', '$d':'d', '$e':'e'}, axis=1)"
   ]
  },
  {
   "cell_type": "markdown",
   "metadata": {},
   "source": [
    "The Pearson correlation coefficient between speed limit and the ratio of the number of casualties to accidents is 0.067. Since it is very close to zero, these two variables are linearly independent."
   ]
  },
  {
   "cell_type": "code",
   "execution_count": 81,
   "metadata": {},
   "outputs": [
    {
     "data": {
      "image/png": "[encoded data removed]",
      "text/plain": [
       "<matplotlib.figure.Figure at 0x11ed38390>"
      ]
     },
     "metadata": {},
     "output_type": "display_data"
    }
   ],
   "source": [
    "import matplotlib.pyplot as plt\n",
    "#%matplotlib inline  # using jupyter notebook\n",
    "\n",
    "plt.scatter(y = df_acc_asc['count'], x = df_acc_asc['speed_limit'])\n",
    "plt.xlabel(\"speed limit\")\n",
    "plt.ylabel(\"accident prob.\")\n",
    "plt.show()"
   ]
  },
  {
   "cell_type": "markdown",
   "metadata": {},
   "source": [
    "**Q: ** How many times more likely are accidents involving male car drivers to be fatal compared to accidents involving female car drivers? The answer should be the ratio of fatality rates of males to females. Ignore all accidents where the driver wasn't driving a car."
   ]
  },
  {
   "cell_type": "code",
   "execution_count": 89,
   "metadata": {},
   "outputs": [
    {
     "data": {
      "text/html": [
       "<div>\n",
       "<style>\n",
       "    .dataframe thead tr:only-child th {\n",
       "        text-align: right;\n",
       "    }\n",
       "\n",
       "    .dataframe thead th {\n",
       "        text-align: left;\n",
       "    }\n",
       "\n",
       "    .dataframe tbody tr th {\n",
       "        vertical-align: top;\n",
       "    }\n",
       "</style>\n",
       "<table border=\"1\" class=\"dataframe\">\n",
       "  <thead>\n",
       "    <tr style=\"text-align: right;\">\n",
       "      <th></th>\n",
       "      <th>Accident_Index</th>\n",
       "      <th>Vehicle_Reference</th>\n",
       "      <th>Casualty_Reference</th>\n",
       "      <th>Casualty_Class</th>\n",
       "      <th>Sex_of_Casualty</th>\n",
       "      <th>Age_of_Casualty</th>\n",
       "      <th>Age_Band_of_Casualty</th>\n",
       "      <th>Casualty_Severity</th>\n",
       "      <th>Pedestrian_Location</th>\n",
       "      <th>Pedestrian_Movement</th>\n",
       "      <th>Car_Passenger</th>\n",
       "      <th>Bus_or_Coach_Passenger</th>\n",
       "      <th>Pedestrian_Road_Maintenance_Worker</th>\n",
       "      <th>Casualty_Type</th>\n",
       "      <th>Casualty_Home_Area_Type</th>\n",
       "    </tr>\n",
       "  </thead>\n",
       "  <tbody>\n",
       "    <tr>\n",
       "      <th>0</th>\n",
       "      <td>200501BS00001</td>\n",
       "      <td>1</td>\n",
       "      <td>1</td>\n",
       "      <td>3</td>\n",
       "      <td>1</td>\n",
       "      <td>37</td>\n",
       "      <td>7</td>\n",
       "      <td>2</td>\n",
       "      <td>1</td>\n",
       "      <td>1</td>\n",
       "      <td>0</td>\n",
       "      <td>0</td>\n",
       "      <td>-1</td>\n",
       "      <td>0</td>\n",
       "      <td>1</td>\n",
       "    </tr>\n",
       "    <tr>\n",
       "      <th>1</th>\n",
       "      <td>200501BS00002</td>\n",
       "      <td>1</td>\n",
       "      <td>1</td>\n",
       "      <td>2</td>\n",
       "      <td>1</td>\n",
       "      <td>37</td>\n",
       "      <td>7</td>\n",
       "      <td>3</td>\n",
       "      <td>0</td>\n",
       "      <td>0</td>\n",
       "      <td>0</td>\n",
       "      <td>4</td>\n",
       "      <td>-1</td>\n",
       "      <td>11</td>\n",
       "      <td>1</td>\n",
       "    </tr>\n",
       "    <tr>\n",
       "      <th>2</th>\n",
       "      <td>200501BS00003</td>\n",
       "      <td>2</td>\n",
       "      <td>1</td>\n",
       "      <td>1</td>\n",
       "      <td>1</td>\n",
       "      <td>62</td>\n",
       "      <td>9</td>\n",
       "      <td>3</td>\n",
       "      <td>0</td>\n",
       "      <td>0</td>\n",
       "      <td>0</td>\n",
       "      <td>0</td>\n",
       "      <td>-1</td>\n",
       "      <td>9</td>\n",
       "      <td>1</td>\n",
       "    </tr>\n",
       "  </tbody>\n",
       "</table>\n",
       "</div>"
      ],
      "text/plain": [
       "  Accident_Index  Vehicle_Reference  Casualty_Reference  Casualty_Class  \\\n",
       "0  200501BS00001                  1                   1               3   \n",
       "1  200501BS00002                  1                   1               2   \n",
       "2  200501BS00003                  2                   1               1   \n",
       "\n",
       "   Sex_of_Casualty  Age_of_Casualty  Age_Band_of_Casualty  Casualty_Severity  \\\n",
       "0                1               37                     7                  2   \n",
       "1                1               37                     7                  3   \n",
       "2                1               62                     9                  3   \n",
       "\n",
       "   Pedestrian_Location  Pedestrian_Movement  Car_Passenger  \\\n",
       "0                    1                    1              0   \n",
       "1                    0                    0              0   \n",
       "2                    0                    0              0   \n",
       "\n",
       "   Bus_or_Coach_Passenger  Pedestrian_Road_Maintenance_Worker  Casualty_Type  \\\n",
       "0                       0                                  -1              0   \n",
       "1                       4                                  -1             11   \n",
       "2                       0                                  -1              9   \n",
       "\n",
       "   Casualty_Home_Area_Type  \n",
       "0                        1  \n",
       "1                        1  \n",
       "2                        1  "
      ]
     },
     "metadata": {},
     "output_type": "display_data"
    },
    {
     "name": "stdout",
     "output_type": "stream",
     "text": [
      "(2216720, 15)\n",
      "(1640597,)\n"
     ]
    }
   ],
   "source": [
    "display(cau.head(3))\n",
    "print(cau.shape)\n",
    "print(cau['Accident_Index'].unique().shape)"
   ]
  },
  {
   "cell_type": "code",
   "execution_count": null,
   "metadata": {},
   "outputs": [],
   "source": []
  },
  {
   "cell_type": "code",
   "execution_count": null,
   "metadata": {},
   "outputs": [],
   "source": []
  },
  {
   "cell_type": "markdown",
   "metadata": {},
   "source": [
    "**Q: ** How fast do the number of car accidents drop off with age? Only consider car drivers who are legally allowed to drive in the UK (17 years or older). Find the rate at which the number of accidents exponentially decays with age. Age is measured in years. Assume that the number of accidents is exponentially distributed with age for driver's over the age of 17."
   ]
  },
  {
   "cell_type": "code",
   "execution_count": 127,
   "metadata": {},
   "outputs": [
    {
     "data": {
      "text/html": [
       "<div>\n",
       "<style>\n",
       "    .dataframe thead tr:only-child th {\n",
       "        text-align: right;\n",
       "    }\n",
       "\n",
       "    .dataframe thead th {\n",
       "        text-align: left;\n",
       "    }\n",
       "\n",
       "    .dataframe tbody tr th {\n",
       "        vertical-align: top;\n",
       "    }\n",
       "</style>\n",
       "<table border=\"1\" class=\"dataframe\">\n",
       "  <thead>\n",
       "    <tr style=\"text-align: right;\">\n",
       "      <th></th>\n",
       "      <th>Accident_Index</th>\n",
       "      <th>Vehicle_Reference</th>\n",
       "      <th>Casualty_Reference</th>\n",
       "      <th>Casualty_Class</th>\n",
       "      <th>Sex_of_Casualty</th>\n",
       "      <th>Age_of_Casualty</th>\n",
       "      <th>Age_Band_of_Casualty</th>\n",
       "      <th>Casualty_Severity</th>\n",
       "      <th>Pedestrian_Location</th>\n",
       "      <th>Pedestrian_Movement</th>\n",
       "      <th>Car_Passenger</th>\n",
       "      <th>Bus_or_Coach_Passenger</th>\n",
       "      <th>Pedestrian_Road_Maintenance_Worker</th>\n",
       "      <th>Casualty_Type</th>\n",
       "      <th>Casualty_Home_Area_Type</th>\n",
       "    </tr>\n",
       "  </thead>\n",
       "  <tbody>\n",
       "    <tr>\n",
       "      <th>0</th>\n",
       "      <td>200501BS00001</td>\n",
       "      <td>1</td>\n",
       "      <td>1</td>\n",
       "      <td>3</td>\n",
       "      <td>1</td>\n",
       "      <td>37</td>\n",
       "      <td>7</td>\n",
       "      <td>2</td>\n",
       "      <td>1</td>\n",
       "      <td>1</td>\n",
       "      <td>0</td>\n",
       "      <td>0</td>\n",
       "      <td>-1</td>\n",
       "      <td>0</td>\n",
       "      <td>1</td>\n",
       "    </tr>\n",
       "    <tr>\n",
       "      <th>1</th>\n",
       "      <td>200501BS00002</td>\n",
       "      <td>1</td>\n",
       "      <td>1</td>\n",
       "      <td>2</td>\n",
       "      <td>1</td>\n",
       "      <td>37</td>\n",
       "      <td>7</td>\n",
       "      <td>3</td>\n",
       "      <td>0</td>\n",
       "      <td>0</td>\n",
       "      <td>0</td>\n",
       "      <td>4</td>\n",
       "      <td>-1</td>\n",
       "      <td>11</td>\n",
       "      <td>1</td>\n",
       "    </tr>\n",
       "    <tr>\n",
       "      <th>2</th>\n",
       "      <td>200501BS00003</td>\n",
       "      <td>2</td>\n",
       "      <td>1</td>\n",
       "      <td>1</td>\n",
       "      <td>1</td>\n",
       "      <td>62</td>\n",
       "      <td>9</td>\n",
       "      <td>3</td>\n",
       "      <td>0</td>\n",
       "      <td>0</td>\n",
       "      <td>0</td>\n",
       "      <td>0</td>\n",
       "      <td>-1</td>\n",
       "      <td>9</td>\n",
       "      <td>1</td>\n",
       "    </tr>\n",
       "  </tbody>\n",
       "</table>\n",
       "</div>"
      ],
      "text/plain": [
       "  Accident_Index  Vehicle_Reference  Casualty_Reference  Casualty_Class  \\\n",
       "0  200501BS00001                  1                   1               3   \n",
       "1  200501BS00002                  1                   1               2   \n",
       "2  200501BS00003                  2                   1               1   \n",
       "\n",
       "   Sex_of_Casualty  Age_of_Casualty  Age_Band_of_Casualty  Casualty_Severity  \\\n",
       "0                1               37                     7                  2   \n",
       "1                1               37                     7                  3   \n",
       "2                1               62                     9                  3   \n",
       "\n",
       "   Pedestrian_Location  Pedestrian_Movement  Car_Passenger  \\\n",
       "0                    1                    1              0   \n",
       "1                    0                    0              0   \n",
       "2                    0                    0              0   \n",
       "\n",
       "   Bus_or_Coach_Passenger  Pedestrian_Road_Maintenance_Worker  Casualty_Type  \\\n",
       "0                       0                                  -1              0   \n",
       "1                       4                                  -1             11   \n",
       "2                       0                                  -1              9   \n",
       "\n",
       "   Casualty_Home_Area_Type  \n",
       "0                        1  \n",
       "1                        1  \n",
       "2                        1  "
      ]
     },
     "metadata": {},
     "output_type": "display_data"
    },
    {
     "name": "stdout",
     "output_type": "stream",
     "text": [
      "(2216720, 15)\n",
      "(1920538, 15)\n"
     ]
    }
   ],
   "source": [
    "display(cau.head(3))\n",
    "print(cau.shape)\n",
    "cau_valid = cau[cau['Age_of_Casualty'] >= 17]\n",
    "print(cau_valid.shape)"
   ]
  },
  {
   "cell_type": "code",
   "execution_count": 103,
   "metadata": {},
   "outputs": [],
   "source": [
    "## https://stackoverflow.com/questions/25010215/pandas-groupby-how-to-compute-counts-in-ranges\n",
    "ranges = [17,30,40,50,60,70,80,90,100, 110]\n",
    "df_count_range = cau_valid.Age_of_Casualty.groupby(pd.cut(cau_valid.Age_of_Casualty, ranges)).count()\n"
   ]
  },
  {
   "cell_type": "code",
   "execution_count": 106,
   "metadata": {},
   "outputs": [
    {
     "name": "stdout",
     "output_type": "stream",
     "text": [
      "<class 'pandas.core.series.Series'>\n",
      "Age_of_Casualty\n",
      "(17, 30]      726637\n",
      "(30, 40]      374652\n",
      "(40, 50]      322966\n",
      "(50, 60]      203767\n",
      "(60, 70]      115662\n",
      "(70, 80]       72163\n",
      "(80, 90]       35555\n",
      "(90, 100]       3471\n",
      "(100, 110]         5\n",
      "Name: Age_of_Casualty, dtype: int64\n",
      "CategoricalIndex([  (17, 30],   (30, 40],   (40, 50],   (50, 60],   (60, 70],\n",
      "                    (70, 80],   (80, 90],  (90, 100], (100, 110]],\n",
      "                 categories=[(17, 30], (30, 40], (40, 50], (50, 60], (60, 70], (70, 80], (80, 90], (90, 100], ...], ordered=True, name='Age_of_Casualty', dtype='category')\n"
     ]
    }
   ],
   "source": [
    "print(type(df_count_range))\n",
    "print(df_count_range)\n",
    "print(df_count_range.index)"
   ]
  },
  {
   "cell_type": "code",
   "execution_count": 126,
   "metadata": {},
   "outputs": [
    {
     "data": {
      "text/plain": [
       "<matplotlib.axes._subplots.AxesSubplot at 0x11daf2ba8>"
      ]
     },
     "execution_count": 126,
     "metadata": {},
     "output_type": "execute_result"
    },
    {
     "data": {
      "image/png": "[encoded data removed]",
      "text/plain": [
       "<matplotlib.figure.Figure at 0x11da17c50>"
      ]
     },
     "metadata": {},
     "output_type": "display_data"
    }
   ],
   "source": [
    "%matplotlib inline\n",
    "df_count_range.plot(kind='bar')"
   ]
  },
  {
   "cell_type": "code",
   "execution_count": null,
   "metadata": {},
   "outputs": [],
   "source": []
  }
 ],
 "metadata": {
  "kernelspec": {
   "display_name": "Python 3",
   "language": "python",
   "name": "python3"
  },
  "language_info": {
   "codemirror_mode": {
    "name": "ipython",
    "version": 3
   },
   "file_extension": ".py",
   "mimetype": "text/x-python",
   "name": "python",
   "nbconvert_exporter": "python",
   "pygments_lexer": "ipython3",
   "version": "3.6.0"
  }
 },
 "nbformat": 4,
 "nbformat_minor": 2
}
