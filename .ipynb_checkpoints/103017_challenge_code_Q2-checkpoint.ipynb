{
 "cells": [
  {
   "cell_type": "markdown",
   "metadata": {},
   "source": [
    "UK 2014 All STATS19 data (accident, casualties and vehicle tables) for 2005 to 2014.\" dataset investigation from [here](https://data.gov.uk/dataset/road-accidents-safety-data)."
   ]
  },
  {
   "cell_type": "markdown",
   "metadata": {},
   "source": [
    "## Load the library ##"
   ]
  },
  {
   "cell_type": "code",
   "execution_count": 1,
   "metadata": {
    "collapsed": true
   },
   "outputs": [],
   "source": [
    "## inspired by https://commercedataservice.github.io/tutorial_biz_dynamics/\n",
    "from IPython.display import display\n",
    "import io, requests, zipfile\n",
    "import pandas as pd\n",
    "from plotly.offline import download_plotlyjs, init_notebook_mode, iplot\n",
    "import plotly.graph_objs as go\n",
    "import plotly.plotly as py\n",
    "from sklearn import datasets, linear_model\n",
    "import matplotlib.pyplot as plt\n",
    "import numpy as np\n",
    "\n",
    "from plotly import __version__\n",
    "## print (__version__) ## requires version >= 1.9.0\n",
    "\n",
    "## Generating Offline Graphs within Jupyter Notebook\n",
    "## https://plot.ly/python/offline/\n",
    "## init_notebook_mode(connected=True)"
   ]
  },
  {
   "cell_type": "code",
   "execution_count": 2,
   "metadata": {
    "collapsed": true
   },
   "outputs": [],
   "source": [
    "## http://mcdc.missouri.edu/data/popests/CBSA-EST2014-alldata.csv\n",
    "## read in data with specified encoding\n",
    "path = './input/Stats19_Data_2005-2014/'"
   ]
  },
  {
   "cell_type": "code",
   "execution_count": 3,
   "metadata": {},
   "outputs": [
    {
     "name": "stderr",
     "output_type": "stream",
     "text": [
      "/Users/udothemath1984/anaconda/lib/python3.6/site-packages/IPython/core/interactiveshell.py:2717: DtypeWarning:\n",
      "\n",
      "Columns (31) have mixed types. Specify dtype option on import or set low_memory=False.\n",
      "\n"
     ]
    }
   ],
   "source": [
    "acc = pd.read_csv(path + \"Accidents0514.csv\", encoding = \"ISO-8859-1\")"
   ]
  },
  {
   "cell_type": "code",
   "execution_count": 4,
   "metadata": {
    "collapsed": true
   },
   "outputs": [],
   "source": [
    "cau = pd.read_csv(path + \"Casualties0514.csv\", encoding = \"ISO-8859-1\")"
   ]
  },
  {
   "cell_type": "code",
   "execution_count": 5,
   "metadata": {
    "collapsed": true
   },
   "outputs": [],
   "source": [
    "veh = pd.read_csv(path + \"Vehicles0514.csv\", encoding = \"ISO-8859-1\")"
   ]
  },
  {
   "cell_type": "markdown",
   "metadata": {},
   "source": [
    "## All the np.nan data is replaced by -1 ##"
   ]
  },
  {
   "cell_type": "code",
   "execution_count": 13,
   "metadata": {},
   "outputs": [],
   "source": [
    "acc = acc.fillna(-1)"
   ]
  },
  {
   "cell_type": "markdown",
   "metadata": {},
   "source": [
    "## Set up display environment ##"
   ]
  },
  {
   "cell_type": "code",
   "execution_count": null,
   "metadata": {
    "collapsed": true
   },
   "outputs": [],
   "source": [
    "#pd.set_option('display.max_colwidth', -1)\n",
    "#pd.options.display.max_rows = 4000\n",
    "pd.options.display.max_columns = 4000"
   ]
  },
  {
   "cell_type": "code",
   "execution_count": null,
   "metadata": {},
   "outputs": [],
   "source": [
    "display(acc.head(3))"
   ]
  },
  {
   "cell_type": "code",
   "execution_count": null,
   "metadata": {},
   "outputs": [],
   "source": [
    "display(cau.head(3))"
   ]
  },
  {
   "cell_type": "code",
   "execution_count": null,
   "metadata": {},
   "outputs": [],
   "source": [
    "display(veh.head(3))"
   ]
  },
  {
   "cell_type": "code",
   "execution_count": null,
   "metadata": {},
   "outputs": [],
   "source": [
    "print(acc.shape)\n",
    "print(cau.shape)\n",
    "print(veh.shape)"
   ]
  },
  {
   "cell_type": "markdown",
   "metadata": {},
   "source": [
    "## Find urban accident occurrence ##"
   ]
  },
  {
   "cell_type": "code",
   "execution_count": null,
   "metadata": {},
   "outputs": [],
   "source": [
    "## https://data.gov.uk/dataset/road-accidents-safety-data\n",
    "print(acc['Urban_or_Rural_Area'].value_counts())\n",
    "print(len(acc))\n",
    "\n",
    "# 1 = Urban area\n",
    "# 2 = Small town\n",
    "# 3 = Rural\n",
    "\n",
    "# -1 = Data missing or out of range"
   ]
  },
  {
   "cell_type": "markdown",
   "metadata": {},
   "source": [
    "**Q:** What fraction of accidents occur in urban areas? Report the answer in decimal form."
   ]
  },
  {
   "cell_type": "code",
   "execution_count": null,
   "metadata": {},
   "outputs": [],
   "source": [
    "acc_tot = len(acc)\n",
    "acc_urban = acc['Urban_or_Rural_Area'].value_counts()[1]\n",
    "print(round(acc_urban/acc_tot, 10))"
   ]
  },
  {
   "cell_type": "code",
   "execution_count": null,
   "metadata": {},
   "outputs": [],
   "source": [
    "## define the function in the desired date format\n",
    "dateparse = lambda dates: pd.datetime.strptime(dates, '%d/%m/%Y')\n",
    "print(dateparse)\n",
    "\n",
    "acc = pd.read_csv(path + \"Accidents0514.csv\", parse_dates=['Date'], \\\n",
    "                  index_col=['Date'], date_parser=dateparse, encoding = \"ISO-8859-1\")\n"
   ]
  },
  {
   "cell_type": "markdown",
   "metadata": {},
   "source": [
    "## Check data type ##  \n",
    "**Work on missing data: ** https://pandas.pydata.org/pandas-docs/stable/missing_data.html"
   ]
  },
  {
   "cell_type": "code",
   "execution_count": null,
   "metadata": {},
   "outputs": [],
   "source": [
    "print(type(acc['LSOA_of_Accident_Location']))\n",
    "print(acc['LSOA_of_Accident_Location'].iloc[0])\n",
    "print(type(acc['LSOA_of_Accident_Location'].iloc[0]))\n",
    "\n",
    "#display(acc.iloc[:, 28:33].head(3))"
   ]
  },
  {
   "cell_type": "code",
   "execution_count": null,
   "metadata": {},
   "outputs": [],
   "source": [
    "##acc.loc['2005']\n",
    "##acc_year = acc.groupby(acc.index.year)['Urban_or_Rural_Area'].value_counts()\n",
    "acc_year = acc.groupby(acc.index.year)['Urban_or_Rural_Area'].count()\n",
    "acc_year"
   ]
  },
  {
   "cell_type": "markdown",
   "metadata": {},
   "source": [
    "**Q:** There appears to be a linear trend in the number of accidents that occur each year. What is that trend? Return the slope in units of increased number of accidents per year."
   ]
  },
  {
   "cell_type": "code",
   "execution_count": null,
   "metadata": {
    "collapsed": true
   },
   "outputs": [],
   "source": [
    "##print(type(acc_year))\n",
    "y = acc_year.values\n",
    "##print(y)\n",
    "x = acc_year.index.values.reshape(-1, 1)\n",
    "##print(x)\n",
    "##print(type(x))"
   ]
  },
  {
   "cell_type": "code",
   "execution_count": null,
   "metadata": {},
   "outputs": [],
   "source": [
    "# from sklearn import datasets, linear_model\n",
    "# import matplotlib.pyplot as plt\n",
    "\n",
    "np.set_printoptions(precision=10)\n",
    "\n",
    "regr = linear_model.LinearRegression()\n",
    "regr.fit(x, y)\n",
    "print(regr.coef_)\n",
    "print(regr.intercept_)"
   ]
  },
  {
   "cell_type": "code",
   "execution_count": null,
   "metadata": {},
   "outputs": [],
   "source": [
    "# Plot outputs\n",
    "plt.scatter(x, y,  color='black')\n",
    "#plt.xticks(())\n",
    "#plt.yticks(())\n",
    "plt.show()"
   ]
  },
  {
   "cell_type": "markdown",
   "metadata": {},
   "source": [
    "**Q: ** How many times more likely are you to be in an accident where you skid, jackknife, or overturn (as opposed to an accident where you don't) when it's raining or snowing compared to nice weather with no high winds? Ignore accidents where the weather is unknown or missing."
   ]
  },
  {
   "cell_type": "markdown",
   "metadata": {},
   "source": [
    "<center> **Skidding_and_Overturning** </center>  \n",
    "\n",
    "|code|label|\n",
    "|:--:|--:|\n",
    "|0|None|\n",
    "|1|Skidded|\n",
    "|2|Skidded and overturned|\n",
    "|3|Jackknifed|\n",
    "|4|Jackknifed and overturned|\n",
    "|5|Overturned|\n",
    "|-1|Data missing or out of range|  \n",
    " \n",
    "  \n",
    "<center> **Weather_Conditions** </center>  \n",
    "\n",
    "|code|label|\n",
    "|:--:|:--:|\n",
    "|1|Fine no high winds|\n",
    "|2|Raining no high winds|\n",
    "|3|Snowing no high winds|\n",
    "|4|Fine + high winds|\n",
    "|5|Raining + high winds|\n",
    "|6|Snowing + high winds|\n",
    "|7|Fog or mist|\n",
    "|8|Other|\n",
    "|9|Unknown|\n",
    "|-1|Data missing or out of range|\n",
    "\n"
   ]
  },
  {
   "cell_type": "code",
   "execution_count": null,
   "metadata": {},
   "outputs": [],
   "source": [
    "display(acc.head(3))"
   ]
  },
  {
   "cell_type": "code",
   "execution_count": null,
   "metadata": {},
   "outputs": [],
   "source": [
    "#print(acc['Weather_Conditions'].value_counts())\n",
    "#print(veh['Skidding_and_Overturning'].value_counts())"
   ]
  },
  {
   "cell_type": "markdown",
   "metadata": {},
   "source": [
    "## Count occurrence ##  \n",
    "Note: There might be more than one car involved in the same accident, so that the size of vehicle record is larger than accident."
   ]
  },
  {
   "cell_type": "code",
   "execution_count": null,
   "metadata": {},
   "outputs": [],
   "source": [
    "print(acc.shape)\n",
    "print(veh.shape)"
   ]
  },
  {
   "cell_type": "code",
   "execution_count": null,
   "metadata": {},
   "outputs": [],
   "source": [
    "print(len(set(veh['Accident_Index'])))"
   ]
  },
  {
   "cell_type": "markdown",
   "metadata": {},
   "source": [
    "## Merge the dataset ##  \n",
    "Here merge style has no effect. Accident_Index is unique in accident dataframe. For vehicle dataframe, the Accident_Index could be the same."
   ]
  },
  {
   "cell_type": "code",
   "execution_count": null,
   "metadata": {},
   "outputs": [],
   "source": [
    "mix_acc_veh = pd.merge(acc[['Accident_Index', 'Weather_Conditions']], \n",
    "                            veh[['Accident_Index', 'Skidding_and_Overturning']],\n",
    "                            how='inner',\n",
    "                            on='Accident_Index')"
   ]
  },
  {
   "cell_type": "code",
   "execution_count": null,
   "metadata": {},
   "outputs": [],
   "source": [
    "print(mix_acc_veh.head(3))\n",
    "print(mix_acc_veh.shape)"
   ]
  },
  {
   "cell_type": "markdown",
   "metadata": {},
   "source": [
    "## Condition ##  \n",
    "- Skidding_and_Overturning = 1, 2, 3, 4, 5 bad action, 0 none  \n",
    "- Weather_Conditions = 2, 3, 5, 6 bad weather condition, 1 good weather condition  "
   ]
  },
  {
   "cell_type": "code",
   "execution_count": null,
   "metadata": {},
   "outputs": [],
   "source": [
    "acc_veh_good_weather = mix_acc_veh[mix_acc_veh['Weather_Conditions'] == 1]\n",
    "acc_veh_bad_weather = mix_acc_veh[mix_acc_veh['Weather_Conditions'].isin([2,3,5,6])]\n",
    "\n",
    "bad_action_list = [1,2,3,4,5]\n",
    "\n",
    "## good weather\n",
    "acc_veh_good_weather_bad_action = len(acc_veh_good_weather[\n",
    "          acc_veh_good_weather['Skidding_and_Overturning'].isin(bad_action_list)])\n",
    "\n",
    "acc_veh_good_weather_good_action = len(acc_veh_good_weather[\n",
    "          acc_veh_good_weather['Skidding_and_Overturning']== 0])\n",
    "\n",
    "print(acc_veh_good_weather_bad_action)\n",
    "print(acc_veh_good_weather_good_action)\n",
    "\n",
    "print(acc_veh_good_weather_bad_action/(acc_veh_good_weather_bad_action+acc_veh_good_weather_good_action))\n",
    "\n",
    "## bad weather\n",
    "acc_veh_bad_weather_bad_action = len(acc_veh_bad_weather[\n",
    "    acc_veh_bad_weather['Skidding_and_Overturning'].isin(bad_action_list)])\n",
    "\n",
    "acc_veh_bad_weather_good_action = len(acc_veh_bad_weather[\n",
    "    acc_veh_bad_weather['Skidding_and_Overturning']==0])\n",
    "\n",
    "print(acc_veh_bad_weather_bad_action)\n",
    "print(acc_veh_bad_weather_good_action)\n",
    "print(acc_veh_bad_weather_bad_action/(acc_veh_bad_weather_bad_action+acc_veh_bad_weather_good_action))"
   ]
  },
  {
   "cell_type": "code",
   "execution_count": null,
   "metadata": {},
   "outputs": [],
   "source": [
    "ratio_bad_decision_in_good = acc_veh_good_weather_bad_action/(acc_veh_good_weather_bad_action+acc_veh_good_weather_good_action)\n",
    "ratio_bad_decision_in_bad = acc_veh_bad_weather_bad_action/(acc_veh_bad_weather_bad_action+acc_veh_bad_weather_good_action)\n",
    "\n",
    "print(\"Accident ratio when you made bad decision at good weather: \")\n",
    "print(ratio_bad_decision_in_good)\n",
    "print(\"Accident ratio when you made bad decision at bad weather: \")\n",
    "print(ratio_bad_decision_in_bad)\n",
    "\n",
    "print(\"The accident is {:.10f} times more likely to happen when weather is bad comparing to good weather.\"\n",
    "     .format(ratio_bad_decision_in_bad/ratio_bad_decision_in_good))\n"
   ]
  },
  {
   "cell_type": "markdown",
   "metadata": {},
   "source": [
    "**Q: ** We can use the accident locations to estimate the areas of the police districts. Represent each as an ellipse with semi-axes given by a single standard deviation of the longitude and latitude. What is the area, in square kilometers, of the largest district measured in this manner?"
   ]
  },
  {
   "cell_type": "markdown",
   "metadata": {},
   "source": [
    "**Q: ** When is the most dangerous time to drive? Find the hour of the day that has the highest occurance of fatal accidents, normalized by the total number of accidents that occured in that hour. For your answer, submit the corresponding frequency of fatal accidents to all accidents in that hour. Note: round accident times down. For example, if an accident occured at 23:55 it occured in hour 23."
   ]
  },
  {
   "cell_type": "markdown",
   "metadata": {},
   "source": [
    "| code | label\n",
    "| :--: | :--\n",
    "|1|Fatal\n",
    "|2|Serious\n",
    "|3|Slight"
   ]
  },
  {
   "cell_type": "code",
   "execution_count": 6,
   "metadata": {},
   "outputs": [],
   "source": [
    "##display(acc.head(3))"
   ]
  },
  {
   "cell_type": "code",
   "execution_count": 17,
   "metadata": {},
   "outputs": [
    {
     "data": {
      "text/html": [
       "<div>\n",
       "<style>\n",
       "    .dataframe thead tr:only-child th {\n",
       "        text-align: right;\n",
       "    }\n",
       "\n",
       "    .dataframe thead th {\n",
       "        text-align: left;\n",
       "    }\n",
       "\n",
       "    .dataframe tbody tr th {\n",
       "        vertical-align: top;\n",
       "    }\n",
       "</style>\n",
       "<table border=\"1\" class=\"dataframe\">\n",
       "  <thead>\n",
       "    <tr style=\"text-align: right;\">\n",
       "      <th></th>\n",
       "      <th>Accident_Severity</th>\n",
       "      <th>Time</th>\n",
       "    </tr>\n",
       "  </thead>\n",
       "  <tbody>\n",
       "    <tr>\n",
       "      <th>0</th>\n",
       "      <td>2</td>\n",
       "      <td>17:42</td>\n",
       "    </tr>\n",
       "    <tr>\n",
       "      <th>1</th>\n",
       "      <td>3</td>\n",
       "      <td>17:36</td>\n",
       "    </tr>\n",
       "    <tr>\n",
       "      <th>2</th>\n",
       "      <td>3</td>\n",
       "      <td>00:15</td>\n",
       "    </tr>\n",
       "  </tbody>\n",
       "</table>\n",
       "</div>"
      ],
      "text/plain": [
       "   Accident_Severity   Time\n",
       "0                  2  17:42\n",
       "1                  3  17:36\n",
       "2                  3  00:15"
      ]
     },
     "metadata": {},
     "output_type": "display_data"
    }
   ],
   "source": [
    "acc_severity_time = acc[['Accident_Severity', 'Time' ]]\n",
    "display(acc_severity_time.head(3))\n",
    "acc_severity_time_subset = acc_severity_time\n",
    "##display(acc_severity_time_subset)"
   ]
  },
  {
   "cell_type": "markdown",
   "metadata": {},
   "source": [
    "## Check missing data ##  \n",
    "All the missing data is indicated by -1."
   ]
  },
  {
   "cell_type": "code",
   "execution_count": 21,
   "metadata": {},
   "outputs": [
    {
     "name": "stdout",
     "output_type": "stream",
     "text": [
      "Before removing, there are 1640597 data entries.\n",
      "After removing, there are 1640464 data entries.\n"
     ]
    }
   ],
   "source": [
    "##acc = acc.fillna(-1)\n",
    "##print(len(acc_severity_time[acc_severity_time['Time'].isnull()]))\n",
    "print(\"Before removing, there are {} data entries.\".format(len(acc_severity_time)))\n",
    "acc_severity_time = acc_severity_time[acc_severity_time.Time != -1]\n",
    "print(\"After removing, there are {} data entries.\".format(len(acc_severity_time)))\n"
   ]
  },
  {
   "cell_type": "code",
   "execution_count": 22,
   "metadata": {},
   "outputs": [
    {
     "name": "stdout",
     "output_type": "stream",
     "text": [
      "<function <lambda> at 0x1110d1d08>\n"
     ]
    }
   ],
   "source": [
    "## define the function in the desired date format\n",
    "## time format reference\n",
    "## http://strftime.org/\n",
    "## get only time\n",
    "## https://stackoverflow.com/questions/18039680/django-get-only-date-from-datetime-strptime\n",
    "dateparse_hour_minutes = lambda dates: pd.datetime.strptime(dates, '%H:%M')\n",
    "print(dateparse_hour_minutes)"
   ]
  },
  {
   "cell_type": "code",
   "execution_count": 23,
   "metadata": {},
   "outputs": [
    {
     "name": "stderr",
     "output_type": "stream",
     "text": [
      "/Users/udothemath1984/anaconda/lib/python3.6/site-packages/pandas/core/indexing.py:517: SettingWithCopyWarning:\n",
      "\n",
      "\n",
      "A value is trying to be set on a copy of a slice from a DataFrame.\n",
      "Try using .loc[row_indexer,col_indexer] = value instead\n",
      "\n",
      "See the caveats in the documentation: http://pandas.pydata.org/pandas-docs/stable/indexing.html#indexing-view-versus-copy\n",
      "\n"
     ]
    }
   ],
   "source": [
    "acc_severity_time.loc[:,'Time']=acc_severity_time.loc[:,'Time'].copy()\\\n",
    "                                                          .apply(dateparse_hour_minutes)\\\n",
    "                                                          .dt.strftime('%H')"
   ]
  },
  {
   "cell_type": "markdown",
   "metadata": {},
   "source": [
    "## Pivot table ##"
   ]
  },
  {
   "cell_type": "code",
   "execution_count": 24,
   "metadata": {},
   "outputs": [
    {
     "data": {
      "text/html": [
       "<div>\n",
       "<style>\n",
       "    .dataframe thead tr:only-child th {\n",
       "        text-align: right;\n",
       "    }\n",
       "\n",
       "    .dataframe thead th {\n",
       "        text-align: left;\n",
       "    }\n",
       "\n",
       "    .dataframe tbody tr th {\n",
       "        vertical-align: top;\n",
       "    }\n",
       "</style>\n",
       "<table border=\"1\" class=\"dataframe\">\n",
       "  <thead>\n",
       "    <tr style=\"text-align: right;\">\n",
       "      <th>Accident_Severity</th>\n",
       "      <th>1</th>\n",
       "      <th>2</th>\n",
       "      <th>3</th>\n",
       "    </tr>\n",
       "    <tr>\n",
       "      <th>Time</th>\n",
       "      <th></th>\n",
       "      <th></th>\n",
       "      <th></th>\n",
       "    </tr>\n",
       "  </thead>\n",
       "  <tbody>\n",
       "    <tr>\n",
       "      <th>00</th>\n",
       "      <td>769</td>\n",
       "      <td>4755</td>\n",
       "      <td>19707</td>\n",
       "    </tr>\n",
       "    <tr>\n",
       "      <th>01</th>\n",
       "      <td>613</td>\n",
       "      <td>3600</td>\n",
       "      <td>14295</td>\n",
       "    </tr>\n",
       "    <tr>\n",
       "      <th>02</th>\n",
       "      <td>527</td>\n",
       "      <td>3035</td>\n",
       "      <td>11345</td>\n",
       "    </tr>\n",
       "    <tr>\n",
       "      <th>03</th>\n",
       "      <td>450</td>\n",
       "      <td>2371</td>\n",
       "      <td>9089</td>\n",
       "    </tr>\n",
       "    <tr>\n",
       "      <th>04</th>\n",
       "      <td>360</td>\n",
       "      <td>1794</td>\n",
       "      <td>6963</td>\n",
       "    </tr>\n",
       "  </tbody>\n",
       "</table>\n",
       "</div>"
      ],
      "text/plain": [
       "Accident_Severity    1     2      3\n",
       "Time                               \n",
       "00                 769  4755  19707\n",
       "01                 613  3600  14295\n",
       "02                 527  3035  11345\n",
       "03                 450  2371   9089\n",
       "04                 360  1794   6963"
      ]
     },
     "metadata": {},
     "output_type": "display_data"
    }
   ],
   "source": [
    "acc_pivot = acc_severity_time.pivot_table(index=['Time'], columns='Accident_Severity', \n",
    "                                          aggfunc='size', fill_value=0)\n",
    "\n",
    "display(acc_pivot.head(5))\n",
    "\n",
    "## another approach\n",
    "## acc_severity_time_groupby = acc_severity_time.groupby(['Time'])['Accident_Severity'].value_counts()\n",
    "## display(acc_severity_time_groupby)"
   ]
  },
  {
   "cell_type": "code",
   "execution_count": 106,
   "metadata": {},
   "outputs": [
    {
     "data": {
      "text/html": [
       "<div>\n",
       "<style>\n",
       "    .dataframe thead tr:only-child th {\n",
       "        text-align: right;\n",
       "    }\n",
       "\n",
       "    .dataframe thead th {\n",
       "        text-align: left;\n",
       "    }\n",
       "\n",
       "    .dataframe tbody tr th {\n",
       "        vertical-align: top;\n",
       "    }\n",
       "</style>\n",
       "<table border=\"1\" class=\"dataframe\">\n",
       "  <thead>\n",
       "    <tr style=\"text-align: right;\">\n",
       "      <th>Accident_Severity</th>\n",
       "      <th>fatal</th>\n",
       "      <th>Serious</th>\n",
       "      <th>Slight</th>\n",
       "      <th>total_count</th>\n",
       "      <th>fatal_ratio</th>\n",
       "    </tr>\n",
       "    <tr>\n",
       "      <th>Time</th>\n",
       "      <th></th>\n",
       "      <th></th>\n",
       "      <th></th>\n",
       "      <th></th>\n",
       "      <th></th>\n",
       "    </tr>\n",
       "  </thead>\n",
       "  <tbody>\n",
       "    <tr>\n",
       "      <th>00</th>\n",
       "      <td>769</td>\n",
       "      <td>4755</td>\n",
       "      <td>19707</td>\n",
       "      <td>25231</td>\n",
       "      <td>3.047838</td>\n",
       "    </tr>\n",
       "    <tr>\n",
       "      <th>01</th>\n",
       "      <td>613</td>\n",
       "      <td>3600</td>\n",
       "      <td>14295</td>\n",
       "      <td>18508</td>\n",
       "      <td>3.312081</td>\n",
       "    </tr>\n",
       "    <tr>\n",
       "      <th>02</th>\n",
       "      <td>527</td>\n",
       "      <td>3035</td>\n",
       "      <td>11345</td>\n",
       "      <td>14907</td>\n",
       "      <td>3.535252</td>\n",
       "    </tr>\n",
       "    <tr>\n",
       "      <th>03</th>\n",
       "      <td>450</td>\n",
       "      <td>2371</td>\n",
       "      <td>9089</td>\n",
       "      <td>11910</td>\n",
       "      <td>3.778338</td>\n",
       "    </tr>\n",
       "    <tr>\n",
       "      <th>04</th>\n",
       "      <td>360</td>\n",
       "      <td>1794</td>\n",
       "      <td>6963</td>\n",
       "      <td>9117</td>\n",
       "      <td>3.948667</td>\n",
       "    </tr>\n",
       "  </tbody>\n",
       "</table>\n",
       "</div>"
      ],
      "text/plain": [
       "Accident_Severity  fatal  Serious  Slight  total_count  fatal_ratio\n",
       "Time                                                               \n",
       "00                   769     4755   19707        25231     3.047838\n",
       "01                   613     3600   14295        18508     3.312081\n",
       "02                   527     3035   11345        14907     3.535252\n",
       "03                   450     2371    9089        11910     3.778338\n",
       "04                   360     1794    6963         9117     3.948667"
      ]
     },
     "metadata": {},
     "output_type": "display_data"
    }
   ],
   "source": [
    "acc_pivot=acc_pivot.rename(columns = {1:'fatal', 2:'Serious', 3:'Slight' })\n",
    "display(acc_pivot.head(5))\n"
   ]
  },
  {
   "cell_type": "code",
   "execution_count": 107,
   "metadata": {},
   "outputs": [
    {
     "name": "stdout",
     "output_type": "stream",
     "text": [
      "<class 'pandas.core.frame.DataFrame'>\n",
      "Index(['00', '01', '02', '03', '04', '05', '06', '07', '08', '09', '10', '11',\n",
      "       '12', '13', '14', '15', '16', '17', '18', '19', '20', '21', '22', '23'],\n",
      "      dtype='object', name='Time')\n",
      "Time\n",
      "Index(['fatal', 'Serious', 'Slight', 'total_count', 'fatal_ratio'], dtype='object', name='Accident_Severity')\n",
      "['fatal' 'Serious' 'Slight' 'total_count' 'fatal_ratio']\n"
     ]
    }
   ],
   "source": [
    "print(type(acc_pivot))\n",
    "print(acc_pivot.index)\n",
    "print(acc_pivot.index.name)\n",
    "print(acc_pivot.columns)\n",
    "print(acc_pivot.columns.values)"
   ]
  },
  {
   "cell_type": "code",
   "execution_count": 109,
   "metadata": {},
   "outputs": [
    {
     "data": {
      "text/html": [
       "<div>\n",
       "<style>\n",
       "    .dataframe thead tr:only-child th {\n",
       "        text-align: right;\n",
       "    }\n",
       "\n",
       "    .dataframe thead th {\n",
       "        text-align: left;\n",
       "    }\n",
       "\n",
       "    .dataframe tbody tr th {\n",
       "        vertical-align: top;\n",
       "    }\n",
       "</style>\n",
       "<table border=\"1\" class=\"dataframe\">\n",
       "  <thead>\n",
       "    <tr style=\"text-align: right;\">\n",
       "      <th>Accident_Severity</th>\n",
       "      <th>fatal</th>\n",
       "      <th>Serious</th>\n",
       "      <th>Slight</th>\n",
       "      <th>total_count</th>\n",
       "      <th>fatal_ratio</th>\n",
       "    </tr>\n",
       "    <tr>\n",
       "      <th>Time</th>\n",
       "      <th></th>\n",
       "      <th></th>\n",
       "      <th></th>\n",
       "      <th></th>\n",
       "      <th></th>\n",
       "    </tr>\n",
       "  </thead>\n",
       "  <tbody>\n",
       "    <tr>\n",
       "      <th>00</th>\n",
       "      <td>769</td>\n",
       "      <td>4755</td>\n",
       "      <td>19707</td>\n",
       "      <td>25231</td>\n",
       "      <td>3.047838</td>\n",
       "    </tr>\n",
       "    <tr>\n",
       "      <th>01</th>\n",
       "      <td>613</td>\n",
       "      <td>3600</td>\n",
       "      <td>14295</td>\n",
       "      <td>18508</td>\n",
       "      <td>3.312081</td>\n",
       "    </tr>\n",
       "    <tr>\n",
       "      <th>02</th>\n",
       "      <td>527</td>\n",
       "      <td>3035</td>\n",
       "      <td>11345</td>\n",
       "      <td>14907</td>\n",
       "      <td>3.535252</td>\n",
       "    </tr>\n",
       "  </tbody>\n",
       "</table>\n",
       "</div>"
      ],
      "text/plain": [
       "Accident_Severity  fatal  Serious  Slight  total_count  fatal_ratio\n",
       "Time                                                               \n",
       "00                   769     4755   19707        25231     3.047838\n",
       "01                   613     3600   14295        18508     3.312081\n",
       "02                   527     3035   11345        14907     3.535252"
      ]
     },
     "metadata": {},
     "output_type": "display_data"
    }
   ],
   "source": [
    "acc_pivot['total_count'] = acc_pivot['fatal']+acc_pivot['Serious']+acc_pivot['Slight']\n",
    "acc_pivot['fatal_ratio'] = acc_pivot['fatal']/acc_pivot['total_count']*100\n",
    "display(acc_pivot.head(3))"
   ]
  },
  {
   "cell_type": "code",
   "execution_count": 51,
   "metadata": {},
   "outputs": [],
   "source": [
    "import plotly.plotly as py\n",
    "import plotly.graph_objs as go\n",
    "import numpy as np\n",
    "import cufflinks as cf"
   ]
  },
  {
   "cell_type": "code",
   "execution_count": 110,
   "metadata": {},
   "outputs": [
    {
     "name": "stdout",
     "output_type": "stream",
     "text": [
      "[769, 613, 527, 450, 360, 425, 582, 819, 788, 769, 954, 960, 983, 1084, 1107, 1243, 1400, 1457, 1215, 1187, 948, 918, 960, 863]\n",
      "['00', '01', '02', '03', '04', '05', '06', '07', '08', '09', '10', '11', '12', '13', '14', '15', '16', '17', '18', '19', '20', '21', '22', '23']\n"
     ]
    }
   ],
   "source": [
    "print(list(acc_pivot['fatal']))\n",
    "print(list(acc_pivot.index.values))"
   ]
  },
  {
   "cell_type": "code",
   "execution_count": 144,
   "metadata": {},
   "outputs": [
    {
     "ename": "NameError",
     "evalue": "name 'y2' is not defined",
     "output_type": "error",
     "traceback": [
      "\u001b[0;31m---------------------------------------------------------------------------\u001b[0m",
      "\u001b[0;31mNameError\u001b[0m                                 Traceback (most recent call last)",
      "\u001b[0;32m<ipython-input-144-e06faba641f6>\u001b[0m in \u001b[0;36m<module>\u001b[0;34m()\u001b[0m\n\u001b[1;32m     24\u001b[0m                     \u001b[0myaxis\u001b[0m \u001b[0;34m=\u001b[0m \u001b[0;34m'y2'\u001b[0m\u001b[0;34m,\u001b[0m\u001b[0;34m\u001b[0m\u001b[0m\n\u001b[1;32m     25\u001b[0m                     \u001b[0mmode\u001b[0m\u001b[0;34m=\u001b[0m\u001b[0;34m'lines+text'\u001b[0m\u001b[0;34m,\u001b[0m\u001b[0;34m\u001b[0m\u001b[0m\n\u001b[0;32m---> 26\u001b[0;31m                     \u001b[0mtext\u001b[0m \u001b[0;34m=\u001b[0m \u001b[0my2\u001b[0m\u001b[0;34m,\u001b[0m\u001b[0;34m\u001b[0m\u001b[0m\n\u001b[0m\u001b[1;32m     27\u001b[0m                     \u001b[0mtextposition\u001b[0m \u001b[0;34m=\u001b[0m \u001b[0;34m'auto'\u001b[0m\u001b[0;34m,\u001b[0m\u001b[0;34m\u001b[0m\u001b[0m\n\u001b[1;32m     28\u001b[0m             )\n",
      "\u001b[0;31mNameError\u001b[0m: name 'y2' is not defined"
     ]
    }
   ],
   "source": [
    "## Multiple-axes\n",
    "## https://plot.ly/python/multiple-axes/\n",
    "\n",
    "trace0 = go.Bar(x = acc_pivot.index,\n",
    "                y = acc_pivot['fatal'],\n",
    "                yaxis = 'y',\n",
    "                name = 'Fatal'\n",
    "            )\n",
    "\n",
    "trace1 = go.Bar(x = acc_pivot.index,\n",
    "                y = acc_pivot['Serious'],\n",
    "                yaxis = 'y',\n",
    "                name = 'Serious'\n",
    "            )\n",
    "\n",
    "trace2 = go.Bar(x = acc_pivot.index,\n",
    "                y = acc_pivot['Slight'],\n",
    "                yaxis = 'y',                \n",
    "                name = 'Slight'\n",
    "            )\n",
    "\n",
    "trace4 = go.Scatter(x = acc_pivot.index,\n",
    "                    y = [\"{:.2f}\".format(i) for i in acc_pivot['fatal_ratio'] ],\n",
    "                    yaxis = 'y2',\n",
    "                    mode='lines+text',\n",
    "                    text = y,\n",
    "                    textposition = 'auto',\n",
    "            )\n",
    "\n",
    "data = [trace2,trace1,trace0, trace4]\n",
    "\n",
    "layout = go.Layout(\n",
    "    barmode='stack',\n",
    "    yaxis=dict(\n",
    "        title='yaxis title'\n",
    "    ),\n",
    "    yaxis2=dict(\n",
    "        title='yaxis2 title',\n",
    "        anchor='x',\n",
    "        overlaying='y',\n",
    "        side='right'\n",
    "    ),\n",
    ")\n",
    "\n",
    "fig = go.Figure(data=data,layout=layout)\n",
    "\n",
    "fig1 = py.iplot(fig, filename='basic histogram')\n",
    "\n",
    "\n",
    "fig1"
   ]
  },
  {
   "cell_type": "code",
   "execution_count": 56,
   "metadata": {},
   "outputs": [
    {
     "ename": "AttributeError",
     "evalue": "module 'plotly.plotly' has no attribute 'PlotlyDisplay'",
     "output_type": "error",
     "traceback": [
      "\u001b[0;31m---------------------------------------------------------------------------\u001b[0m",
      "\u001b[0;31mAttributeError\u001b[0m                            Traceback (most recent call last)",
      "\u001b[0;32m<ipython-input-56-936a61997bc4>\u001b[0m in \u001b[0;36m<module>\u001b[0;34m()\u001b[0m\n\u001b[0;32m----> 1\u001b[0;31m \u001b[0mdir\u001b[0m\u001b[0;34m(\u001b[0m\u001b[0mpy\u001b[0m\u001b[0;34m.\u001b[0m\u001b[0mPlotlyDisplay\u001b[0m\u001b[0;34m)\u001b[0m\u001b[0;34m\u001b[0m\u001b[0m\n\u001b[0m",
      "\u001b[0;31mAttributeError\u001b[0m: module 'plotly.plotly' has no attribute 'PlotlyDisplay'"
     ]
    }
   ],
   "source": [
    "dir(py.PlotlyDisplay)"
   ]
  },
  {
   "cell_type": "markdown",
   "metadata": {},
   "source": [
    "The number indicates the "
   ]
  },
  {
   "cell_type": "markdown",
   "metadata": {},
   "source": [
    "**Q: ** Do accidents in high-speed-limit areas have more casualties? Compute the Pearson correlation coefficient between the speed limit and the ratio of the number of casualties to accidents for each speed limit. Bin the data by speed limit."
   ]
  },
  {
   "cell_type": "markdown",
   "metadata": {},
   "source": [
    "**Q: ** How many times more likely are accidents involving male car drivers to be fatal compared to accidents involving female car drivers? The answer should be the ratio of fatality rates of males to females. Ignore all accidents where the driver wasn't driving a car."
   ]
  },
  {
   "cell_type": "markdown",
   "metadata": {},
   "source": [
    "**Q: ** How fast do the number of car accidents drop off with age? Only consider car drivers who are legally allowed to drive in the UK (17 years or older). Find the rate at which the number of accidents exponentially decays with age. Age is measured in years. Assume that the number of accidents is exponentially distributed with age for driver's over the age of 17."
   ]
  },
  {
   "cell_type": "markdown",
   "metadata": {},
   "source": []
  },
  {
   "cell_type": "markdown",
   "metadata": {},
   "source": []
  },
  {
   "cell_type": "markdown",
   "metadata": {},
   "source": []
  }
 ],
 "metadata": {
  "kernelspec": {
   "display_name": "Python 3",
   "language": "python",
   "name": "python3"
  },
  "language_info": {
   "codemirror_mode": {
    "name": "ipython",
    "version": 3
   },
   "file_extension": ".py",
   "mimetype": "text/x-python",
   "name": "python",
   "nbconvert_exporter": "python",
   "pygments_lexer": "ipython3",
   "version": "3.6.0"
  }
 },
 "nbformat": 4,
 "nbformat_minor": 2
}
