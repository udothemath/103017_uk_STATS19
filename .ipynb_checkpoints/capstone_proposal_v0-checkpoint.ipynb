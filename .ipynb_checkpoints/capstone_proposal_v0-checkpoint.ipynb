{
 "cells": [
  {
   "cell_type": "markdown",
   "metadata": {},
   "source": [
    "<!-- ## Project Submission\n",
    "\n",
    "In this capstone project proposal, prior to completing the following Capstone Project, you you will leverage what you’ve learned throughout the Nanodegree program to author a proposal for solving a problem of your choice by applying machine learning algorithms and techniques. A project proposal encompasses seven key points:\n",
    "\n",
    "- The project's domain background — the field of research where the project is derived;\n",
    "- A problem statement — a problem being investigated for which a solution will be defined;\n",
    "- The datasets and inputs — data or inputs being used for the problem;\n",
    "- A solution statement — a the solution proposed for the problem given;\n",
    "- A benchmark model — some simple or historical model or result to compare the defined solution to;\n",
    "- A set of evaluation metrics — functional representations for how the solution can be measured;\n",
    "- An outline of the project design — how the solution will be developed and results obtained.  \n",
    "\n",
    "Think about a technical field or domain that you are passionate about, such as robotics, virtual reality, finance, natural language processing, or even artificial intelligence (the possibilities are endless!). Then, choose an existing problem within that domain that you are interested in which you could solve by applying machine learning algorithms and techniques. Be sure that you have collected all of the resources needed (such as datasets, inputs, and research) to complete this project, and make the appropriate citations wherever necessary in your proposal. Below are a few suggested problem areas you could explore if you are unsure what your passion is: -->"
   ]
  },
  {
   "cell_type": "markdown",
   "metadata": {},
   "source": [
    "## Project Proposal  \n",
    "### The best investiment is [ ____ ].\n",
    "\n",
    "Fu-Chang Sun  \n",
    "October 30th, 2017"
   ]
  },
  {
   "cell_type": "markdown",
   "metadata": {},
   "source": [
    "## Proposal\n",
    "<!-- _(approx. 2-3 pages)_ -->\n",
    "\n",
    "### Domain Background\n",
    "<!-- _(approx. 1-2 paragraphs)_ -->\n",
    "\n",
    "What if we can predict the future based on historical data, or at least some of the future? It has been a long time puzzle since human history. We look for pattern, come up with the elegant equation to describe the underlying mechanisms. \n",
    "\n",
    "\n",
    "\n",
    "Furthermore, buyer might \"need\" something that they didn't think of while making grocery list. What if the housekeeper provide the expert suggestion while we fill up our shopping cart? For instance, if someone have tomoato and pasta in the shopping list, the system can recommend buyer a package of italian suasage, a thin loaf of French bread, or a good bottle of white wine. There is an old saying, \"customers don't know what they want\". With what machine learning techniques can offer, the shopping experience might become easy and delightful. The [competition](https://www.kaggle.com/c/instacart-market-basket-analysis) is proposed by Instacart very recently on kaggle.\n",
    "\n",
    "<!--In this section, provide brief details on the background information of the domain from which the project is proposed. Historical information relevant to the project should be included. It should be clear how or why a problem in the domain can or should be solved. Related academic research should be appropriately cited in this section, including why that research is relevant. Additionally, a discussion of your personal motivation for investigating a particular problem in the domain is encouraged but not required.-->"
   ]
  },
  {
   "cell_type": "markdown",
   "metadata": {},
   "source": [
    "### Problem Statement\n",
    "<!-- _(approx. 1 paragraph)_ -->\n",
    "\n",
    "I would like to use the purchase history to predict the items that buyer is going to buy next time. Moreover, I would also like to provide some \"wisdom\" suggestion on what the buyer might want to buy. The first part is related to forecasting problem, and second part is associated with the recommendation system.\n",
    "\n",
    "<!-- In this section, clearly describe the problem that is to be solved. The problem described should be well defined and should have at least one relevant potential solution. Additionally, describe the problem thoroughly such that it is clear that the problem is quantifiable (the problem can be expressed in mathematical or logical terms) , measurable (the problem can be measured by some metric and clearly observed), and replicable (the problem can be reproduced and occurs more than once).\n",
    "-->"
   ]
  },
  {
   "cell_type": "markdown",
   "metadata": {},
   "source": [
    "### Datasets and Inputs\n",
    "<!--_(approx. 2-3 paragraphs)_ -->\n",
    "\n",
    "The dataset is provided through Instacart from kaggle competition. There are 7 csv files, which are aisles, departments, order_products_prior, order_products_train, orders, products, and sample_submission. These files are associated with the customers' orders over time based on 3 million grocery orders from more than 200,000 Instacart users. For each user, there are about 4 to 100 orders, with the sequence of products. The week and hour making order is also provided. Our goal is to predict which products will be in a user's next order. These files are self-explanatory as follows,\n",
    "\n",
    "#### aisles.csv\n",
    "<ul>\n",
    "aisle_id,aisle\n",
    "  <li>1,prepared soups salads</li>\n",
    "  <li>2,specialty cheeses</li>\n",
    "  <li>3,energy granola bars</li>\n",
    "  <li>...</li>\n",
    "</ul>  \n",
    "\n",
    "#### departments.csv\n",
    "<ul>\n",
    "department_id,department\n",
    "  <li>1,frozen</li>\n",
    "  <li>2,other</li>\n",
    "  <li>3,bakery</li>\n",
    "  <li>...</li>\n",
    "</ul>\n",
    "\n",
    "#### order_products__*.csv\n",
    "<ul>\n",
    "order_id,product_id,add_to_cart_order,reordered\n",
    "  <li>1,49302,1,1</li>\n",
    "  <li>1,11109,2,1</li>\n",
    "  <li>1,10246,3,0</li>\n",
    "  <li>...</li>\n",
    "</ul>\n",
    "\n",
    "#### prodocts.csv\n",
    "<ul>\n",
    "product_id,product_name,aisle_id,department_id\n",
    "  <li>1,Chocolate Sandwich Cookies,61,19 </li>\n",
    "  <li>2,All-Seasons Salt,104,13</li>\n",
    "  <li>3,Robust Golden Unsweetened Oolong Tea,94,7</li>\n",
    "  <li>...</li>\n",
    "</ul>\n",
    "\n",
    "#### sample_submission.csv\n",
    "<ul>\n",
    "order_id,products\n",
    "  <li>17,39276</li>\n",
    "  <li>34,39276</li>\n",
    "  <li>137,39276 </li>\n",
    "  <li>...</li>\n",
    "</ul>\n",
    "\n",
    "The example of the order is provided in the [blog](https://tech.instacart.com/3-million-instacart-orders-open-sourced-d40d29ead6f2).\n",
    "\n",
    "<!--\n",
    "In this section, the dataset(s) and/or input(s) being considered for the project should be thoroughly described, such as how they relate to the problem and why they should be used. Information such as how the dataset or input is (was) obtained, and the characteristics of the dataset or input, should be included with relevant references and citations as necessary It should be clear how the dataset(s) or input(s) will be used in the project and whether their use is appropriate given the context of the problem.\n",
    "-->"
   ]
  },
  {
   "cell_type": "markdown",
   "metadata": {},
   "source": [
    "### Solution Statement\n",
    "<!--_(approx. 1 paragraph)_-->\n",
    "\n",
    "Our goal is using customers' orders over time to predict which previous purchased products will be in a user's next order. From \"order_products_*.csv\" file, the label \"reordered\" indicates 0(nope) or 1(yep), which is a classification problem. Because there are various products (49688 items), the dimensionality of the problem might explode if direct one-hot encoding is implemented. Due to high dimensionality of the dataset, Gaussian Naive Bayes and Ensemble methods are good candidates for such problem. I plan to implement multiple supervised learning models and discuss its applicability/performance.\n",
    "\n",
    "Furthermore, using machine learning techniques can provide personalized product recommendations to increae the size of the shopping cart. I will apply collaborative filtering and/or content-based filtering approach in the recommendation engine and discuss the findings. \n",
    "\n",
    "<!--In this section, clearly describe a solution to the problem. The solution should be applicable to the project domain and appropriate for the dataset(s) or input(s) given. Additionally, describe the solution thoroughly such that it is clear that the solution is quantifiable (the solution can be expressed in mathematical or logical terms) , measurable (the solution can be measured by some metric and clearly observed), and replicable (the solution can be reproduced and occurs more than once).-->\n",
    "\n",
    "### Benchmark Model\n",
    "<!-- _(approximately 1-2 paragraphs)_ -->\n",
    "\n",
    "As a naive guess, I would choose the benchmark model such that the buyer always buys the products that he has purchased in previous order. The reordered lable is always 1, namely buy it again. It is a reasonable assumption but of course won't be the case in reality. \n",
    "\n",
    "<!--In this section, provide the details for a benchmark model or result that relates to the domain, problem statement, and intended solution. Ideally, the benchmark model or result contextualizes existing methods or known information in the domain and problem given, which could then be objectively compared to the solution. Describe how the benchmark model or result is measurable (can be measured by some metric and clearly observed) with thorough detail.-->\n",
    "\n",
    "### Evaluation Metrics\n",
    "<!-- _(approx. 1-2 paragraphs)_ -->\n",
    "\n",
    "In order to test our benchmark model, I would evaluate model accuracy and F-score. The performance metrics can be split into two part, training and predicting. The execution time is recorded to compare its scalability. By viewing its performance among different methods, the optimal approach could be proposed for not only this, but also similar problem. Moreover, scoring parameter could be evaluated for fine tune the estimator. \n",
    "\n",
    "<!--In this section, propose at least one evaluation metric that can be used to quantify the performance of both the benchmark model and the solution model. The evaluation metric(s) you propose should be appropriate given the context of the data, the problem statement, and the intended solution. Describe how the evaluation metric(s) are derived and provide an example of their mathematical representations (if applicable). Complex evaluation metrics should be clearly defined and quantifiable (can be expressed in mathematical or logical terms).-->"
   ]
  },
  {
   "cell_type": "code",
   "execution_count": 14,
   "metadata": {
    "collapsed": false
   },
   "outputs": [
    {
     "data": {
      "text/html": [
       "<img src=\"wf.png\", style=\"margin:-240px 0px -240px -80px\">"
      ],
      "text/plain": [
       "<IPython.core.display.HTML object>"
      ]
     },
     "execution_count": 14,
     "metadata": {},
     "output_type": "execute_result"
    }
   ],
   "source": [
    "from IPython.core.display import HTML \n",
    "HTML('<img src=\"wf.png\", style=\"margin:-240px 0px -240px -80px\">')"
   ]
  },
  {
   "cell_type": "markdown",
   "metadata": {},
   "source": [
    "### Project Design\n",
    "<!--_(approx. 1 page)_ --> \n",
    "\n",
    "For this project, we are going to follow the workflow like every machine learning problem does. \n",
    "<!-- Cannot successfully display in pdf format -->\n",
    "<!--<img src=\"wf.png\", style=\"margin:-240px 0px -240px -80px\"> -->\n",
    "\n",
    "\n",
    "#### Evaluate problem:  \n",
    "Based on the description of instacart kaggle competition, our final goal is using previous purchase history to predict future order. The information of the product, such as aisle number, department id, product name, order time is provided from 3 million grocery orders. Since the outcome is evaluated as reorder or not, the machine learning technique for classification could be implemented. Furthermore, one can provide the recommendation for the users who have similar shopping behavior using collaborative filtering approach.\n",
    "\n",
    "#### Data exploration and preparation:   \n",
    "Seven separate data files are provided with unique id. The products are categorized in different aisle and department. Each transaction is reported with detailed description of purchasing time and time gap of previous order. The statistical description could offer a better understanding of dataset, such as the number of category,\n",
    "\n",
    "#### Model development and training:   \n",
    "I would compare the preliminary results between different supervised algorithms and discuss the findings. The data should be carefully shuffled and randomly split into trainning and testing subset. There are quite a few classfication methods available, but it is too early to give solid comment on the best among them. Therefore, I would \"wisely\" pick the stardard method such as logistic regression and support vector mechines (SVM) as a starting point. More advanced approaches, such as Gaussian Naive bayes and ensemble methods are considered. The general and in-depth discussion could provide the complete picture of the problem, as long as clarify the subtlety of our methodology.\n",
    "\n",
    "#### Model testing and deployment:   \n",
    "The performance of each approaches is evaluated through computational cost (execution time), accuracy, and F-score. The required execution time from smaller dataset can give us the idea of whether the implemented approach can be scaled up to the larger problem. The evalution metric of accuracy and F-score is utilized in order to identify the best model. The parameters can be further tuned, using grid search approach to optimize our model.\n",
    "\n",
    "I would conclude the study by data exploration, model evaluation, and result visualization. The critical factor of solving this problem will be revealed in the final report. Moreoever, further investigation and/or future work, for generalization of the similar problem, will be discussed as well.\n",
    "\n",
    "<!-- In this final section, summarize a theoretical workflow for approaching a solution given the problem. Provide thorough discussion for what strategies you may consider employing, what analysis of the data might be required before being used, or which algorithms will be considered for your implementation. The workflow and discussion that you provide should align with the qualities of the previous sections. Additionally, you are encouraged to include small visualizations, pseudocode, or diagrams to aid in describing the project design, but it is not required. The discussion should clearly outline your intended workflow of the capstone project.\n",
    "-->\n",
    "\n",
    "### Reference\n",
    "-  https://www.kaggle.com/c/instacart-market-basket-analysis/leaderboard\n",
    "-  http://machinelearningmastery.com/make-predictions-time-series-forecasting-python/\n",
    "-  https://cloud.google.com/ml-engine/docs/concepts/ml-solutions-overview\n",
    "\n",
    "\n",
    "<!--\n",
    "\n",
    "**Before submitting your proposal, ask yourself. . .**\n",
    "\n",
    "- Does the proposal you have written follow a well-organized structure similar to that of the project template?\n",
    "- Is each section (particularly **Solution Statement** and **Project Design**) written in a clear, concise and specific fashion? Are there any ambiguous terms or phrases that need clarification?\n",
    "- Would the intended audience of your project be able to understand your proposal?\n",
    "- Have you properly proofread your proposal to assure there are minimal grammatical and spelling mistakes?\n",
    "- Are all the resources used for this project correctly cited and referenced?\n",
    "-->\n"
   ]
  }
 ],
 "metadata": {
  "kernelspec": {
   "display_name": "Python 3",
   "language": "python",
   "name": "python3"
  },
  "language_info": {
   "codemirror_mode": {
    "name": "ipython",
    "version": 3
   },
   "file_extension": ".py",
   "mimetype": "text/x-python",
   "name": "python",
   "nbconvert_exporter": "python",
   "pygments_lexer": "ipython3",
   "version": "3.6.0"
  }
 },
 "nbformat": 4,
 "nbformat_minor": 2
}
