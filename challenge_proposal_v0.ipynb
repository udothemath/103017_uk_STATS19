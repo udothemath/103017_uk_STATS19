{
 "cells": [
  {
   "cell_type": "markdown",
   "metadata": {},
   "source": [
    "# Project Proposal  \n",
    "## The best investiment is [ ____ ].\n",
    "\n",
    "Fu-Chang Sun  \n",
    "October 30th, 2017"
   ]
  },
  {
   "cell_type": "markdown",
   "metadata": {},
   "source": [
    "## Domain Background\n",
    "\n",
    "What if we can predict the future, or at least part of the future, based on historical data? Our ancestors have worked on it long time ago. They record the animal behavior, and then put down the traps at the most possible locations. They observe the astronomical movement, and then predict whether something bad is about to happen. They look for pattern from nature mother, and then write down the elegant equation to explain the phenomena. Most importantly, they adapt the strategy through time.\n",
    "\n",
    "In modern world, we are essentially doing the same thing, trying to find the tendency but using different tools. How could we improve the accuracy of our prediction? It heavily depends on what we try to answer, and what time we ask such question. Furthermore, [\"Being able to go from idea to result with the least possible delay is key to doing good research.\"](https://keras.io/) Once the main concern of the proposal is resolved, the following steps such as achieving the higher accuracy of the model, making an user friendly interface, and designing a work flow in automation manner, are worth the effort making it a standalone project. "
   ]
  },
  {
   "cell_type": "markdown",
   "metadata": {},
   "source": [
    "## Problem Statement\n",
    "\n",
    "In this project, I would like to work on identify the underlying reasoning of a successful business. \"The U.S. economy is comprised of over 6 million establishments with paid employees. The population of these businesses is constantly churning –– some businesses grow, others decline and yet others close.\" The major interest is to have a reliable predictive model and to understand why. What is the driving force for such observation? In order to keep the head on top of the water level, as a founder, how should he/her prioritize the budget expense?   \n",
    "\n",
    "[Nine out of ten startups will fail.](http://fortune.com/2014/09/25/why-startups-fail-according-to-their-founders/) How to collect the information and spend the money wisely? Elon Musks, the CEO of SpaceX, has said \"there are 1000 ways the rocket would fail, and there is only one way to [make it right](https://www.usatoday.com/story/tech/talkingtech/2017/09/14/you-must-watch-elon-musk-video-rocket-fails/665166001/).\" It is worth to identify the priority of the tasks.\n",
    "\n",
    "In summary, the intention of the study would cover the methods using classification, regression, and time series algorithms. The broader range the investigation in the problem could provide the better understanding of its domain, and same work flow could be implemented in different topics, further extend the scalability. "
   ]
  },
  {
   "cell_type": "markdown",
   "metadata": {},
   "source": [
    "## Datasets\n",
    "\n",
    "The main data is obtain through [US Census Bureau website](https://www.census.gov/econ/currentdata/dbsearch?program=RESSALES&startYear=1963&endYear=2017&categories=ASOLD&dataType=TOTAL&geoLevel=US&adjusted=1&submit=GET+DATA&releaseScheduleId=), with the title \"Business Dynamics Statistics (Time Series: 1976-2014)\" It includes the establishment openings and closings, firm startups, job creation and destruction by firm size, age, industrial sector, etc.\n",
    "\n",
    "Subsequently, other data resources are included but not limited to  \n",
    "- [State Population](https://www.census.gov/data/datasets/2016/demo/popest/state-total.html)  \n",
    "- [Annual Survey of State Government Finances](https://www.census.gov/programs-surveys/state.html)    \n",
    "\n",
    "Another good reference of obtaining data through API could be found [here](https://github.com/CommerceDataService/tutorial_biz_dynamics)."
   ]
  },
  {
   "cell_type": "markdown",
   "metadata": {},
   "source": [
    "### Solution Statement\n",
    "\n",
    "At the beginning, retrieving the surviving rate as a function of year provides the tendency of the enterprise constitution. The combination of different factors generates the final observation, just like everything else does. The importance of the individual reasoning, the correlation among these, play a important role of understanding the main driving force behind the scene. My goal is staring with the limited given information, make the first naive guess, and then dig into the details by finding the correlation of the features, classify the behavior with fostering other data resource.   \n",
    "\n",
    "Essentially, it becomes an open question where there is no final solution. The philosophy is along the same line of how we understand the world. The more information you have, the **higher chance** you could gain more insight of it. The question goes one step beyond now. Does data show what we believe at the first place? The information obtaining from the artificial intelligence could offer us another angle to tackle the problem.  "
   ]
  },
  {
   "cell_type": "markdown",
   "metadata": {},
   "source": [
    "### Benchmark Model and  Evaluation Metrics\n",
    "\n",
    "The benchmark of the model is obtained through the raw data from the original dataset. Because the feature space is small, in term of size, the predictive power is expected to be lower than using larger or multiple data resources. The evaluation metric of [accuracy](http://scikit-learn.org/stable/modules/generated/sklearn.metrics.accuracy_score.html), [F1 score](http://scikit-learn.org/stable/modules/generated/sklearn.metrics.f1_score.html), as long as the time series evaluation, are considered in the project accordingly. \n"
   ]
  },
  {
   "cell_type": "markdown",
   "metadata": {},
   "source": [
    "### Work Flow"
   ]
  },
  {
   "cell_type": "markdown",
   "metadata": {},
   "source": [
    "<img src=\"wf.png\", style=\"margin:-240px 0px -240px -80px\">"
   ]
  },
  {
   "cell_type": "markdown",
   "metadata": {},
   "source": [
    "### Reference\n",
    "-  https://www.census.gov/en.html\n",
    "-  http://scikit-learn.org/stable/modules/classes.html\n",
    "-  https://commercedataservice.github.io/tutorial_biz_dynamics/"
   ]
  }
 ],
 "metadata": {
  "kernelspec": {
   "display_name": "Python 3",
   "language": "python",
   "name": "python3"
  },
  "language_info": {
   "codemirror_mode": {
    "name": "ipython",
    "version": 3
   },
   "file_extension": ".py",
   "mimetype": "text/x-python",
   "name": "python",
   "nbconvert_exporter": "python",
   "pygments_lexer": "ipython3",
   "version": "3.6.0"
  }
 },
 "nbformat": 4,
 "nbformat_minor": 2
}
