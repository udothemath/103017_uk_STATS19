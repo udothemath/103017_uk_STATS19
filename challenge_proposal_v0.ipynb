{
 "cells": [
  {
   "cell_type": "markdown",
   "metadata": {},
   "source": [
    "# Project Proposal  \n",
    "## The best investiment is [ ____ ].\n",
    "\n",
    "Fu-Chang Sun  \n",
    "October 30th, 2017"
   ]
  },
  {
   "cell_type": "markdown",
   "metadata": {},
   "source": [
    "## Domain Background\n",
    "<!-- _(approx. 1-2 paragraphs)_ -->\n",
    "\n",
    "What if we can predict the future, or at least part of the future, based on historical data? Our ancestors have worked on it long time ago. They record the animal behavior, and then put down the traps at the most possible locations. They observe the astronomical movement, and then predict whether something bad is about to happen. They look for pattern from nature mother, and then write down the elegant equation to explain the phenomena. Most importantly, they adapt the strategy through time.\n",
    "\n",
    "In modern world, we are essentially doing the same thing, trying to find the tendency but using different tools. How could we improve the accuracy of our prediction? It heavily depends on what we try to answer, and what time we ask such question. Furthermore, [\"Being able to go from idea to result with the least possible delay is key to doing good research.\"](https://keras.io/)"
   ]
  },
  {
   "cell_type": "markdown",
   "metadata": {},
   "source": [
    "## Problem Statement\n",
    "\n",
    "In this project, I would like to work on identify the underlying reasoning of a successful business. \"The U.S. economy is comprised of over 6 million establishments with paid employees. The population of these businesses is constantly churning –– some businesses grow, others decline and yet others close.\" The major interest is to have a reliable predictive model and to understand why. What is the driving force for such observation? In order to keep the head on top of the water level, as a founder, how should he/her prioritize the budget expense?   \n",
    "\n",
    "[Nine out of ten startups will fail.](http://fortune.com/2014/09/25/why-startups-fail-according-to-their-founders/) How to collect the information and spend the money wisely? Elon Musks, the CEO of SpaceX, has said \"there are 1000 ways the rocket would fail, and there is only one way to [make it right](https://www.usatoday.com/story/tech/talkingtech/2017/09/14/you-must-watch-elon-musk-video-rocket-fails/665166001/).\" It is worth to identify the priority of the tasks.\n",
    "\n",
    "In summary, the intention of the study would cover the methods using classification, regression, and time series algorithms. The broader range the investigation in the problem could provide the better understanding of its domain, and same work flow could be implemented in different topics, further extend the scalability. "
   ]
  },
  {
   "cell_type": "markdown",
   "metadata": {},
   "source": [
    "## Datasets\n",
    "\n",
    "The main data is obtain through [US Census Bureau website](https://www.census.gov/econ/currentdata/dbsearch?program=RESSALES&startYear=1963&endYear=2017&categories=ASOLD&dataType=TOTAL&geoLevel=US&adjusted=1&submit=GET+DATA&releaseScheduleId=), with the title \"Business Dynamics Statistics (Time Series: 1976-2014)\" It includes the establishment openings and closings, firm startups, job creation and destruction by firm size, age, industrial sector, etc.\n",
    "\n",
    "Subsequently, other data resources are included but not limited to  \n",
    "- [State Population](https://www.census.gov/data/datasets/2016/demo/popest/state-total.html)  \n",
    "- [Annual Survey of State Government Finances](https://www.census.gov/programs-surveys/state.html)    \n",
    "\n",
    "Another good reference of obtaining data through API could be found [here](https://github.com/CommerceDataService/tutorial_biz_dynamics)."
   ]
  },
  {
   "cell_type": "markdown",
   "metadata": {},
   "source": [
    "### Solution Statement\n",
    "\n",
    "At the beginning, retrieving the surviving rate as a function of year provides the tendency of the enterprise constitution. The combination of different factors generates the final observation, just like everything else does. The importance of the individual reasoning, the correlation among these, play a important role of understanding the main driving force behind the scene. My goal is staring with the limited given information, make the first naive guess, and then dig into the details by finding the correlation of the features, classify the behavior with fostering other data resource.   \n",
    "\n",
    "Essentially, it becomes an open question where there is no final solution. The philosophy is along the same line of how we understand the world. The more information you have, the **higher chance** you could gain more insight of it. The question goes one step beyond now. Does data show what we believe at the first place? The information obtaining from the artificial intelligence could offer us another angle to tackle the problem.  "
   ]
  },
  {
   "cell_type": "markdown",
   "metadata": {},
   "source": [
    "### Benchmark Model and  Evaluation Metrics\n",
    "\n",
    "The benchmark of the model is obtained through the raw data from the original dataset. Because the feature space is small, in term of size, the predictive power is expected to be lower than using larger or multiple data resources. The evaluation metric of [accuracy](http://scikit-learn.org/stable/modules/generated/sklearn.metrics.accuracy_score.html), [F1 score](http://scikit-learn.org/stable/modules/generated/sklearn.metrics.f1_score.html), as long as the time series evaluation, are considered in the project accordingly. \n"
   ]
  },
  {
   "cell_type": "markdown",
   "metadata": {},
   "source": [
    "### Project Design\n",
    "<!--_Note, if there is any._ --> \n",
    "\n",
    "For this project, we are going to follow the work flow.\n",
    "\n",
    "#### Evaluate problem:  \n",
    "\n",
    "\n",
    "\n",
    "#### Data exploration and preparation:   \n",
    "Seven separate data files are provided with unique id. The products are categorized in different aisle and department. Each transaction is reported with detailed description of purchasing time and time gap of previous order. The statistical description could offer a better understanding of dataset, such as the number of category,\n",
    "\n",
    "#### Model development and training:   \n",
    "I would compare the preliminary results between different supervised algorithms and discuss the findings. The data should be carefully shuffled and randomly split into trainning and testing subset. There are quite a few classfication methods available, but it is too early to give solid comment on the best among them. Therefore, I would \"wisely\" pick the stardard method such as logistic regression and support vector mechines (SVM) as a starting point. More advanced approaches, such as Gaussian Naive bayes and ensemble methods are considered. The general and in-depth discussion could provide the complete picture of the problem, as long as clarify the subtlety of our methodology.\n",
    "\n",
    "#### Model testing and deployment:   \n",
    "The performance of each approaches is evaluated through computational cost (execution time), accuracy, and F-score. The required execution time from smaller dataset can give us the idea of whether the implemented approach can be scaled up to the larger problem. The evalution metric of accuracy and F-score is utilized in order to identify the best model. The parameters can be further tuned, using grid search approach to optimize our model.\n",
    "\n",
    "I would conclude the study by data exploration, model evaluation, and result visualization. The critical factor of solving this problem will be revealed in the final report. Moreoever, further investigation and/or future work, for generalization of the similar problem, will be discussed as well.\n",
    "\n",
    "<!-- In this final section, summarize a theoretical workflow for approaching a solution given the problem. Provide thorough discussion for what strategies you may consider employing, what analysis of the data might be required before being used, or which algorithms will be considered for your implementation. The workflow and discussion that you provide should align with the qualities of the previous sections. Additionally, you are encouraged to include small visualizations, pseudocode, or diagrams to aid in describing the project design, but it is not required. The discussion should clearly outline your intended workflow of the capstone project.\n",
    "-->\n",
    "\n",
    "### Reference\n",
    "-  https://www.kaggle.com/c/instacart-market-basket-analysis/leaderboard\n",
    "-  http://machinelearningmastery.com/make-predictions-time-series-forecasting-python/\n",
    "-  https://cloud.google.com/ml-engine/docs/concepts/ml-solutions-overview\n",
    "\n",
    "\n",
    "<!--\n",
    "\n",
    "**Before submitting your proposal, ask yourself. . .**\n",
    "\n",
    "- Does the proposal you have written follow a well-organized structure similar to that of the project template?\n",
    "- Is each section (particularly **Solution Statement** and **Project Design**) written in a clear, concise and specific fashion? Are there any ambiguous terms or phrases that need clarification?\n",
    "- Would the intended audience of your project be able to understand your proposal?\n",
    "- Have you properly proofread your proposal to assure there are minimal grammatical and spelling mistakes?\n",
    "- Are all the resources used for this project correctly cited and referenced?\n",
    "-->\n"
   ]
  },
  {
   "cell_type": "code",
   "execution_count": null,
   "metadata": {
    "collapsed": true
   },
   "outputs": [],
   "source": []
  }
 ],
 "metadata": {
  "kernelspec": {
   "display_name": "Python 3",
   "language": "python",
   "name": "python3"
  },
  "language_info": {
   "codemirror_mode": {
    "name": "ipython",
    "version": 3
   },
   "file_extension": ".py",
   "mimetype": "text/x-python",
   "name": "python",
   "nbconvert_exporter": "python",
   "pygments_lexer": "ipython3",
   "version": "3.6.0"
  }
 },
 "nbformat": 4,
 "nbformat_minor": 2
}
